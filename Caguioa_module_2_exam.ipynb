{
 "cells": [
  {
   "cell_type": "markdown",
   "id": "professional-taylor",
   "metadata": {},
   "source": [
    "# Caguioa, JV Bryan DP."
   ]
  },
  {
   "cell_type": "markdown",
   "id": "prerequisite-allah",
   "metadata": {},
   "source": [
    "# AI Module 2 Exam"
   ]
  },
  {
   "cell_type": "markdown",
   "id": "spatial-perth",
   "metadata": {},
   "source": [
    "# Import libraries"
   ]
  },
  {
   "cell_type": "code",
   "execution_count": 1,
   "id": "fitted-cargo",
   "metadata": {},
   "outputs": [],
   "source": [
    "import numpy as np\n",
    "import pandas as pd\n",
    "import networkx as nx\n",
    "import seaborn as sns\n",
    "import matplotlib.pyplot as plt\n",
    "import re\n",
    "import nltk\n",
    "\n",
    "from attention import AttentionLayer\n",
    "from nltk.tokenize import sent_tokenize\n",
    "from nltk.corpus import stopwords\n",
    "from bs4 import BeautifulSoup\n",
    " \n",
    "from tensorflow.keras.layers import Input, LSTM, Embedding, Dense, Concatenate, TimeDistributed, Bidirectional\n",
    "from tensorflow.keras.models import Model\n",
    "from tensorflow.keras.callbacks import EarlyStopping\n",
    "from keras.preprocessing.text import Tokenizer \n",
    "from keras.preprocessing.sequence import pad_sequences\n",
    "from sklearn.metrics.pairwise import cosine_similarity\n",
    "from sklearn.model_selection import train_test_split\n",
    "\n",
    "import warnings\n",
    "pd.set_option(\"display.max_colwidth\", 200)\n",
    "warnings.filterwarnings(\"ignore\")"
   ]
  },
  {
   "cell_type": "markdown",
   "id": "anticipated-tiger",
   "metadata": {},
   "source": [
    "# Question-1: Abstractive summarization"
   ]
  },
  {
   "cell_type": "markdown",
   "id": "grave-lunch",
   "metadata": {},
   "source": [
    "# a)\tRemove abstracts and other figures from the paper and develop an algorithm to show abstractive summarization of each paper. "
   ]
  },
  {
   "cell_type": "markdown",
   "id": "welcome-negative",
   "metadata": {},
   "source": [
    "**In order to import the dataset, first I converted the pdf to csv. I removed certain parts of the paper (ex. references, headers). The dataset I used in abstractive summarization do not include its abstract section while dataset in extraction summarization does not include the conclusion section.**"
   ]
  },
  {
   "cell_type": "markdown",
   "id": "golden-settlement",
   "metadata": {},
   "source": [
    "**Read Dataset**"
   ]
  },
  {
   "cell_type": "code",
   "execution_count": 2,
   "id": "advised-crown",
   "metadata": {},
   "outputs": [],
   "source": [
    "data=pd.read_csv(\"abs_articles.csv\")"
   ]
  },
  {
   "cell_type": "code",
   "execution_count": 3,
   "id": "residential-heather",
   "metadata": {},
   "outputs": [
    {
     "data": {
      "text/plain": [
       "'Cancer disease has been reported as one of the deadliest genetic maladies of the human genome. It has been the research interest until today by doctors, pathologist, biologist and others life science and health professionals. The World Health Organization (WHO) reported cancer disease having 14 million new cases in 2012. This disease is a major cause or morbidity and mortality that accounts of death globaly resulting 8.8 million deaths in 2015 [1]. The World Cancer Report described cancer as a global problem and projected an increase to 20 million new cases by 2025 [2]. There are several research in cancer classification that used different techniques using gene analysis and classification. The important goal in cancer disease research is to identify the specific genes that caused normal cells to mutate into cancer disease. There are approaches in technology that reveals the cellular and molecular level of cancer. In a cancer disease sample such a cell biopsy to be processed, thousands of genes at a time can be subjected for analysis in a single chip called microarray. Microarrays are microscopic slides that contain ordered series of samples of DNA (Deoxyribonucleic acids), RNA (Ribonucleic acids), protein, or tissue and others [3]. A single chip microarray can measure the gene expressions of 30,000 gene sample that represents most of the human genome [4]. The challenge of cancer classification using the microarray is the application of model based selection and prediction algorithm that will classify the cancer genes using gene expression data. The computation time, classification accuracy, and its biological relevance in the cancer classification was still in question. The main goal of this study is to explore and analyze the published papers in cancer classification. The scope of this paper is to present the cancer classification using machine learning models.\\nThis paper mainly explored and analyzed published papers about the topic. The papers were extracted from Scopus and Classification Multi Strategy Biological Scalability method class Evaluation meaning Support No Good Vector No Max-Margin Machine Boosting Yes Max-Margin Yes Class dependent Decision Tree Yes Entropy Yes Good function K-Nearest Yes Similarity No Not scalable Neighbor Cluster–based No Not scalable Similarity Yes Similarity Tuple Gene No Weighted Yes Fair Selection voting Fisher Linear Discriminant No Fair Discriminant Yes Analysis Analysis Neural Yes Perceptron No Fair Network Naïve Bayes Yes Distribution No Fair modeling PubMed and analyzed using Cited Reference Explorer (CRExplorer) in section A. To illustrate the tasks for the classifier model, the following activities were described in the next sections. Describing the dataset in Section B. The application of machine learning cancer classifier method in Section C. A. Papers unde study The reference publication study used on this paper was extracted from PubMed [6] and Scopus [11]. The research continued to gain interest from researchers of cancer classifiers and gene expression analysis methods since 1995. Refer to Figure 1 for the Scopus result for search analysis documents per year source from 2000-2017 period. This shows that the topic of interest has still the traction each year. The reference publication study used on this paper was extracted from PubMed [6] and Scopus [11]. The research continued to gain interest from researchers of cancer classifiers and gene expression analysis methods since 1995. Refer to Figure 1 for the Scopus result for search analysis documents per year source from 2000-2017 period. This shows that the topic of interest has still the traction each year. The Cited References Explorer (CRExplorer) [12] is another tool that can analyze the historical roots of fields, topics, or researches. The method used for the analysis based on RPYS is the frequency of references cited in the researches in terms of the publication years. The RPYS analysis of the topic. There were 55,040 cited references in the 1967-2017 period and 51 different citing publications years with the total of 1448 publications cited. The cited publication years considered were from 2000-2017 period with 18 publication year. The researchers on cancer classification using gene expression started its traction on 1995 with its influential work on 1999 of [13,17,19, 43,44,45]. The peak of the research on 2000 with the use of microarray more datasets and the evaluation using classification methods. The work of [45] marked its constant cited reference of the citing years thereafter. The evaluations and classification method were discussed. B. Dataset The dataset used is a microarray from the Golub experiment [13]. The dataset is available online from the repository of Stanford Hastie CASI files [46]. The process of obtaining the best model for predicting disease classes from a given raw data set collected by scanning genetic microarrays from 72 patients, each suffering from one of the strains of cancer (leukemia). For each of the patients, the scanner tabulated the values of 7129 genes, each of which was assigned a numerical value. The dataset is 65% ALL and 35% for AML. It contains the gene description and gene accession number. The dataset has training set of 7129 rows (instances) with 72 columns (features) with 38 samples. The test set contains 6627 unique values of genes from the 7129 values with 34 samples. The data was normalized for this experiment to select the genes that was correlated to the outcome of the combined features. This reduces the genes and to increase the classification accuracy. Using linear method T-values, this reduced the number of genes for the training model. Using the formula below: ( Av1 − Av2 ) T-test for mean difference = (1) ( o1 2 / N1 + o 2 2 / N2 ) Av1 and Av2 average of 1 class from the given gene expression classes. The sigma are the standard deviation of each classes. Then, N1 and N2 are samples whose class has T-values. and does not have the T-values. Then running the experiment using selected machine learning tool for cancer classification method. C. Machine Learning Tool for Cancer Classification Model Using the Google Colaboratory (CO) [47] notebook with python programming to run the experiment for the AML and ALL dataset. Using the PyML package, that has classification and regression methods. SVM is a classifier PyML. The classifier used in the experiment were Support Vector Machine (SVM) and Boosting (Extreme Gradient Boosting). SVM is a supervised learning method that analyzed data for classification.'"
      ]
     },
     "execution_count": 3,
     "metadata": {},
     "output_type": "execute_result"
    }
   ],
   "source": [
    "data['Text'][0]"
   ]
  },
  {
   "cell_type": "code",
   "execution_count": 4,
   "id": "formal-nickname",
   "metadata": {},
   "outputs": [
    {
     "data": {
      "text/plain": [
       "\"Distracted driving can be seen in some situations where-in the driver diverts his/her attention from activities critical for safe driving [1] and in some situations, this could potentially cause road accidents which are most likely to occur in traffic congested areas. Cognitive, manual, and visual distractions are some factors that affect the driving capabilities of a driver when exposed to prolonged driving [2]. Visual distraction in the context of driving can be determined as activities that take the driver’s eye off the road, except for activities that are necessary in driving such as observing other vehicles or checking side mirrors [3]. The National Highway Traffic Safety Administration (NHTSA) of the U.S.A. has provided guidelines for the public wherein it states that a task that diverts the driver’s visual attention from the road should not exceed 2 seconds [4]. This guideline was based on their previous research of the impact that driver inattention has on near-crash or crash risks and it is said that drivers involved in crashes had an average total time of eyes off the road of nearly 2 seconds [5][6]. Aside from visual distraction, conversations held while driving take an amount of attention away from the task at hand. By assessing the results of the National Motor Vehicle Crash Causation Survey (NMVCCS), it has been found that conversing with a passenger was the top factor coming from an internal source that was present in the assessed crashes. In hopes of contributing to the ongoing research on developing modern and more accurate models for driver-state monitoring systems, this paper presents a non-intrusive camera-based approach which was developed and implemented to detect visual distraction cues [7] and cues that can be detected visually (talking). Transport Network Vehicle Service (TNVS) drivers are the primary focus of this study since they play a role in everyday commute, putting the passenger’s safety in their hands whenever they choose to use their services. It also provides new knowledge regarding the presence and frequency of distraction during a usual transit of a TNVS driver [8]. Detecting driver distraction relies heavily on analyzing visual data and computer vision concepts. The methods that were implemented in this study were carefully chosen to coincide with the area of inquiry. This paper presents a model that implements a non-intrusive camera-based approach for detecting a Grab driver's lapse indicators. Figure 4 depicts the design of the model. The recorded footage of the driver’s face during transit should undergo through processes to detect the lapse indicators. Visual data was gathered through recording the faces of the Grab drivers during transit. Twenty (20) respondents took part in the experiment. The training dataset is made up of nineteen (19) driver values, and the remaining one was left for testing. Each video file was pre-processed by having them segmented into parts wherein actual driving occurs. This means that traffic footage was discarded and unused for testing. The videos were rendered at twenty-five (25) frames per second (fps, making the 2- second margin a constant of fifty (50) frames. Furthermore, the video data was muted and turned into grayscale. A sample of one hundred-twenty (120) seconds was taken from each video. This is divided into two equal subsets, one for eye gaze and the other for speaking. The sixty (60) second subset is made up of thirty (30) seconds of pure distraction, and 30 seconds of non-distracted driving footage. The symmetry is done to avoid the data becoming biased towards one prediction. The training set consists of a total of fifty-seven thousand (57,000) values (2,280 seconds worth). For both speaking and eye gaze, each driver set has one thousand 114 five hundred (1,500) frames, measuring at about one (1) minute. The system does not deliver real-time detection of distraction as indicated by the processing of the video file after it has been recorded. It was not designed with the intention of providing a real-time detection machine, but to assess the capability of the designed methodology. Once pre-processing is done, the individual frames of the video will be extracted for the facial attributes necessary. Eye Gaze Tracking focuses on the eye movements and the accompanying head pose that signifies glances to assess whether the driver has not been in clear view of the road for a pre-determined sequence of frames. Computer vision concepts were applied to the model which assesses with a binary classification of whether the driver is distracted (value = 1) or not (value = 0). The classifications were compared to the perceptual evaluations to account for whether the model had an accurate detection capability of distractions. The model’s detecting power is determined by a confusion matrix and an evaluation of the model’s F-measure. All of which are based on perceptual evaluation that will serve as the baseline of the action as a distraction or not. The data were then partitioned into subsets with 19 driver data sets serving as training data, and the remaining 1 driver data set as the testing data. The testing data was not included in the training whatsoever. The concepts introduced and used in [8] were implemented in this study where it is assumed that head movements relate to where the driver is looking at. Figure 5 depicts the usual position of a Grab driver. A scenario wherein the driver’s eyes were off the road is not automatically marked by the model because a glimpse does not automatically indicate visual distraction, a continuous 2 seconds of distraction must occur. However, returning gaze to the forward road also does not automatically signify a non-distracted event. The 2 second rule was used as the baseline for identifying if the driver was not focused on the road. This means that the driver will remain to be considered as distracted even after returning to the forward road, until the specified frame interval has been met. For a 25-frames-per-second rendering, the driver must remain undistracted for 17 frames as observed in the values for the detection to change from distracted to non-distracted. The same rules were applied for speaking detection as no formal rules have been established for it at the time of the research. The recorded footage was processed frame by frame to extract facial landmarks, eye gaze, and action units from the driver. The process of detecting distraction was conducted through gaze tracking, head pose orientation, Action Unit detection, 2D facial landmarks, and 3D facial landmarks. OpenFace, as depicted in Figure 6, was used to determine the facial attributes of the driver. The OpenFace software is a facial behavior analysis toolkit developed through an integrated implementation of the Multicomp Group, Technologies Institute at the Carnegie Mellon University and Rainbow Group, Computer Laboratory, University of Cambridge [19]. This toolkit contains a feature of facial action unit recognition, facial landmarks tracking, head pose tracking, and gaze tracking can output a csv file that is used for identifying distraction features. The columns of gaze_angle_x, gaze_angle_y, x_51, y_51, X_51, Y_51, Z_51, AU23_r, AU23_c, AU25_r, and AU25_c were used to determine the approximate gaze position where the driver is looking at as well as the mouth movements exhibited by the driver. These columns were obtained from the output of OpenFace. The two (2) second timer functions as a separate existing counter outside of the timestamps of the video. A detected occurrence of distraction signifies the start of the counting. Since the videos were rendered at 25fps, two seconds (50 frames) of distraction in succession was needed to detect distraction. However, the presence of a non-distracted frame does not automatically reset the timer. As per conducted on the research 17 frames of continuous non-distraction was needed to reset the timer. Certain events such as moving back and forth from the road and a cell phone do not constitute a continuous distraction frameset. However, it is still distraction. The 17-frame buffer allows the model to detect these distractions as well. Mouth movements were recognized based on tracking points on the mouth that signify frequent openings and closure in succession. With the help of OpenFace, facial landmarks in the 2D and 2D plane were used to map the mouth points location to indicate movement. As with the eye gaze, mouth movements were also applied with the same algorithm of the 2-second rule. This was done since there was no specific time restriction placed upon the mouth movement by a previous research. 3.2 Binary Classification To assure the accurate distraction detection of the model, a baseline was established. The driving videos that were preprocessed beforehand were subjected to perceptual evaluation of driver videos to manually assess if the driver is distracted by indicating the second timeframe that the driver is distracted. This manual annotation served as the baseline for the model’s power in detecting distraction indicators [20]. The annotation was used as a 115 comparison to the model’s output. Meanwhile stratified K-Fold method was used for cross validation. Binary classification with values of 0 as not distracted and 1 as distracted will sort out the detected features into which ones are classified as possible distraction cues. k-nearest Neighbor Classifier (k-NN) was used as the classifier [21] [22]. k-NN was implemented using Python version 3.6. Libraries of numpy, sklearn, pandas, and csv were utilized in the development of the model for detection. Numpy was used for array creation needed to hold the values that were stored inside .csv files. Sklearn contained the cross-validation and k-NN functions. Pandas were used in the writing and creation of new files storing the output detection (raw) files that the model made. Lastly, Csv was used for .csv file manipulation. Upon classification, determining the detection power of the model was based on the manual annotations and evaluations of the perceptual evaluators. For comparison, four outputs will be determined: True Positive detection, True Negative detection, False Negative detection, and False Positive detection. These were placed all in a confusion matrix in order to quantify the extracted results. Depicted in Figure 7 is the manual annotation by the evaluators. The outputs of the classifier were then inputted to an algorithm designed to sift through the data and apply a timer that indicates distraction for a consecutive of 50 frames, amounting to 2 seconds on a 25-fps video. The algorithm also clusters the output data into blocks of 1 second (25 frames) each and unifies the data within that cluster by majority. If a majority of the cluster is predicted as 1, then the whole second assimilates a value of 1, and vice versa. This clustering allows proper matching to account for the imprecision of the manual annotation, as well as preventing random data to be classified as distracted when it is not (outliers). This is done separately for speaking and gaze outputs. Both results are then consolidated by an “OR” function to output the final results of the detection model. 3.3 Model Validation Binary classification determines a selection as either positive or negative. However, comparing the model’s output to actual data in training can have one of four outcomes. First is True Positive detection which involves a positive match between the detected feature, and the manually annotated video that was evaluated. A high number of this output will determine the quality of the model in detecting distractions. A low accuracy would mean that the formulated model is not suitable for detecting distraction cues in the context with which the study was conducted. A True Negative detection on the other hand signifies a point in the video wherein it was not annotated to be a distraction, and the model does not detect this as well. False positive detection would indicate that the model has detected a distraction cue wherein there was no distraction present as indicated by the perceptual evaluators. False negative detection would indicate that the model has not detected a distraction cue but the perceptual evaluators have annotated the segment to be containing a distraction. In analyzing the data, Accuracy, Recall, and Precision were the methods used for final validation of the model in training [21] [22]. The F-measure is the harmonic mean of Precision and Recall [23]. This is done to quantify or give a numerical score to the predictive power of the model. A score of 1 (100%) denotes a perfect classification procedure for the model. Meanwhile, 0 denotes the worst F-measure. For clarification, the result of this score does not coincide with the results of accuracy. However, Fmeasure allows for a better classification of the predictive power of the model instead of just assessing how much the model got right. Once the model has achieved an acceptable F-score to assess its validity, the testing phase process begins. In line with this, the model was subjected to assess whether it is the right fit for the sample data obtained. This is done so in order to generalize the performance of the model in real world values. The model cannot be taught 100% cases that exhibit distraction. By implementing Kfold method for validating the data, it can be estimated how well a model can perform in implementation on values that it was not taught. The K-Fold Method is a cross validation methodology that partitions the data set into k equal subsets. One of the subsets will be allocated for testing, while the rest for training the model. The process is repeated k times, with each time making use of a different subset as the testing data. The results of these tests will be averaged in order to produce the output of the process. This results in a better accuracy by compute time will also be increased due to the repetitive action. The driver set used for testing the data has a video length of 7 minutes, 46 seconds, and 3 frames (11,653 frames). The distracted portions of this video amounts to 9,481 frames while the nondistracted portions of the video totals to 2,172 frames. The model peaked at 95% (0.9475) F-measure with 30 as the value of k for the classifier as presented in Figure 8. This specific driver set was the set chosen as training data as a result of the K-Fold Validation. This model produced the highest F-measure score in comparison to the other data sets. Factors attributing to this are as follows: best lit recording, numerous samples of varying distraction occurrences, driver speaking to the passenger, face is in clear view of the camera, and sudden bursts of extremely dark or extremely light frames were not common. There are three (3) main features of the detection prototype that were individually assessed for their F-Measure score. Namely:  Raw values produced by k-Nearest Neighbor Classifier for eye gaze, action units, and facial landmarks (Feature A);  Raw values prosduced by k-Nearest Neighbor Classifier exclusively for eye gaze (Feature B); and lastly, 116  k-Nearest Neighbor Classifier Outputs Processed through the time restriction and value clustering algorithm (Feature C). Feature C presented the highest F-Measure (95%). The data presented in the succeeding pages reflect the results gathered from this specific feature. The graph presented in Figure 8 was rendered by the model to indicate the spiking accuracy of the raw detection (before application of time restriction algorithms) at 80%. The spiking graph was caused by the outliers present in the video inputs caused by varying lighting conditions resulting in poorer values outputted by the OpenFace feature extraction. After running through the time restriction algorithm and value clustering, the model reached 0.9475 (95%) at 30 neighbor values for F-Measure. The average of the statistics based on a Confusion Matrix made for each of the testing criteria are presented in Table 1. The data presented in Table 2 displays a close margin between the actual and predicted values. From the confusion matrix presented, the predicting power of the model can be quantified. The model predicted 379.24 seconds to be distracted, and 86.88 seconds to be non-distracted. This amounts to a 1.55 % and 6.76% percentage error for the distracted and non-distracted predictions respectively. The average of the statistics based on a Confusion Matrix made for each of the testing criteria are presented in Table 3. The results from this study signify that the combination of facial landmarks, eye gaze, and action units provide a detection power of 95% for the specific data that was tested on.\""
      ]
     },
     "execution_count": 4,
     "metadata": {},
     "output_type": "execute_result"
    }
   ],
   "source": [
    "data['Text'][1]"
   ]
  },
  {
   "cell_type": "code",
   "execution_count": 5,
   "id": "thermal-contractor",
   "metadata": {},
   "outputs": [
    {
     "data": {
      "text/plain": [
       "'The quality management system (QMS) is considered as an organizational structured that consists of quality procedures, processes and resources which is setup systematically to achieve quality objectives. Today, State Universities and Colleges decided to implement the principles and methodologies of the quality management system for two main reasons. First, is to improve their operations and increase customer’s satisfactions. Second is their wish for formal international recognition to drive corporate reputation. [1] In this paper, the researchers identified the current challenges of the quality assurance department of the academic sectors. First, their quality assurance staff is doing manual classification of digital documents such as audit findings and reports. This normally results to the delay of data analysis and late submission of management reports to the top management. In addition, it creates a bottleneck for a large data to be analyzed in a short period of time and this becomes a challenge for the administrative sectors. Their main tasks are to create reports punctually and provide Revised Manuscript Received on July 12, 2019. Ken Jon M. Tarnate, Mapua University, Manila, Philippines Madhavi Devaraj, Mapua University, Manila, Philippines adequate and latest data for the top management to make critical decisions. Second, most auditors during quality audits and management reviews had difficulty on identifying and categorizing the audit findings according to its major clauses of the ISO 9001:2015 QMS Requirements. And this is where automatic text categorization fits to solve the problem of the quality assurance auditing team of the academic institutions. However, the text categorization process is also facing a challenge, in terms of picking the right “word representation model” for the traditional machine learning algorithms. [15] For this purposed, the researchers developed a deep neural networks models with a combine word representation models (word encoding plus an embedding dimension layer) to classify an audit reports according to its major clauses of the ISO 9001:2015 QMS Requirement. The authors built a two layered LSTM and Bi-LSTM neural networks with a total number of 225 hidden units and compare the performance of those models to the traditional LSTM and Bi-LSTM models.The main contributions of this paper are the development of machine learning model to help the internal auditors to identify and classify an audit reports according to the major clause of the ISO 9001:2015 QMS Requirements. Second, the researchers investigated the learning ability of the four recurrent neural network models using a combined word representation models (word encoding with an embedding dimension layer). And most importantly, the authors able to speed up the process of the extractions and generations of management reports based from the results of the internal and external quality audits conducted in the university. In the Exploratory Data Analysis, the researchers used the RStudio IDE version 1.1463. Using the “R” programming language and libraries such as “ggplot2”, “dplyr”, “quanteda”, “caret” and “doSnow” using these methods the authors able to analyze and graph the dataset. in a sophisticated way using the visualization techniques in data mining. Meanwhile, the researchers also used the MATLAB Software version 2018b in doing the entire standard procedures of the text categorization process of audit reports according to the ISO 9001:2015 QMS Requirements. This figure shows the visual representation of the categorization process of audit reports; Data gathering and extraction, Exploratory Data Analysis, Data Pre-processing, Training, Validation and Testing the RNN(s) Model and Evaluation of RNN Models. The datasets were extracted from the Quality Assurance Databases on one of the State University in the Philippines which their quality management system is ISO certified. The entire datasets were composed of 2583 audit reports. Each audit reports have a labeled according to its major clauses and specific clauses, status and its types of nonconformities; major nonconformance (NC), minor (MiN), and opportunity for improvement (OFI). Using the RStudio IDE version 1.1.463. The authors explored the data of the quality assurance department of the higher education institutions. Using the data visualization techniques, it helped the top management to foresee, on which principles and methodologies of the ISO 9001:2015 QMS Requirements they are lacking with. Through this exploratory data analysis, the top management of the institution had been able to identify which areas of the management are needed to be prioritized. Table I. Shows the breakdown of the entire datasets according to its major clauses. Basically, during quality audits, the auditors are looking for this major clause of the ISO 9001:2015 QMS Requirements. It shows that the area of “Support” has the greatest number of findings. This means that the current Quality Management System of the institution is lacking on the “Support Systems”, this also means, that their current weakness is in the area of support groups and programs. However, the lowest number of findings can be found in the area of “Improvement” this can be means that the current QMS of the institution, is stable enough to continue on the day to day operations. In this stage, the researchers cleaned and normalized the text data and converted it into a computable format so that the deep learning model can process and train by it. The researchers tokenized first the documents, then removed all the stopwords, punctuations and lowercase all the characters. Then converted the unstructured text data into a structured data; this can be done by using a word representation model. The authors used the “doc2sequence” n-gram model to convert the text data into vectors. Then reduced the dimensionality of the data by assigning a fixed number or length of attributes through word embedding. After the data preparations, the researchers divided the datasets into to three states, 70% for the training of the model, 15% for the validation of the model and another 15% for the testing of RNN(s) the model. Categorization of ISO 9001:2015 Audit Reports Using Recurrent Neural Networks 1776 Published By: Blue Eyes Intelligence Engineering & Sciences Publication Retrieval Number B1018078219/19©BEIESP DOI: 10.35940/ijrte.B1018.078219 Then the authors fed the data in the recurrent neural networks model to train and learn from it. In the experiment a fully dense connected network was used and each RNN models have 225 hidden units’ layers and have an embedding dimension of 100. The authors used the “Adam” optimization solver to iteratively update the network weights during training then used the “SoftMax” activation functions to normalize the input values to outputs vectors and assigned probability distributions on the output values. And to avoid over fitting on the training data, the researchers used the “dropout” regularization technique for the Deep-LSTM and Deep-Bidirectional-LSTM. This figure shows the actual “R” code to generate a certain report needed by the quality assurance department. This code able to summarize the results of the internal and external quality audits findings. It also able to graphs and calculates the average nonconformities and status of the findings. In this figure, based from automated extraction process of audit reports, there are 1,350 or 52% of audit findings are still open or not resolve, however there are 1224 or 47% of audit findings are already resolved. Meanwhile there nine (9) or 1% of audit findings is undetermined. In this figure, based from the data mining process, the system identified the count of nonconformities of the entire university on the ISO 9001 Standard. According to these results, there are 1278 processes that are major nonconformance on the ISO 9001 QMS standard and 873 minor findings. However, there are 405 findings which can be a good opportunity to improve for the entire QMS process of the university. Lastly, some auditors submitted 15 compliance and 12 positive audit findings. It indicates that there are existing processes that needs to be maintained and retained because it causes positive impact on the university. The authors evaluated the model by getting its classification accuracy with respect to its cross-entropy loss. Table II. Shows the classification accuracy of each RNN(s) Model. Based from these results, the Deep-Bidirectional LSTM outperformed the other three RNN(s) model. Table III. Shows the actual predictions of the Deep-Bidirectional LSTM. The model predicted nine (9) correct major clauses out of 10 trials.'"
      ]
     },
     "execution_count": 5,
     "metadata": {},
     "output_type": "execute_result"
    }
   ],
   "source": [
    "data['Text'][2]"
   ]
  },
  {
   "cell_type": "markdown",
   "id": "expensive-security",
   "metadata": {},
   "source": [
    "**Pre-processing**"
   ]
  },
  {
   "cell_type": "code",
   "execution_count": 6,
   "id": "electrical-physics",
   "metadata": {},
   "outputs": [],
   "source": [
    "contraction_mapping = {\"ain't\": \"is not\", \"aren't\": \"are not\",\"can't\": \"cannot\", \"'cause\": \"because\", \"could've\": \"could have\", \"couldn't\": \"could not\",\n",
    "\n",
    "                           \"didn't\": \"did not\", \"doesn't\": \"does not\", \"don't\": \"do not\", \"hadn't\": \"had not\", \"hasn't\": \"has not\", \"haven't\": \"have not\",\n",
    "\n",
    "                           \"he'd\": \"he would\",\"he'll\": \"he will\", \"he's\": \"he is\", \"how'd\": \"how did\", \"how'd'y\": \"how do you\", \"how'll\": \"how will\", \"how's\": \"how is\",\n",
    "\n",
    "                           \"I'd\": \"I would\", \"I'd've\": \"I would have\", \"I'll\": \"I will\", \"I'll've\": \"I will have\",\"I'm\": \"I am\", \"I've\": \"I have\", \"i'd\": \"i would\",\n",
    "\n",
    "                           \"i'd've\": \"i would have\", \"i'll\": \"i will\",  \"i'll've\": \"i will have\",\"i'm\": \"i am\", \"i've\": \"i have\", \"isn't\": \"is not\", \"it'd\": \"it would\",\n",
    "\n",
    "                           \"it'd've\": \"it would have\", \"it'll\": \"it will\", \"it'll've\": \"it will have\",\"it's\": \"it is\", \"let's\": \"let us\", \"ma'am\": \"madam\",\n",
    "\n",
    "                           \"mayn't\": \"may not\", \"might've\": \"might have\",\"mightn't\": \"might not\",\"mightn't've\": \"might not have\", \"must've\": \"must have\",\n",
    "\n",
    "                           \"mustn't\": \"must not\", \"mustn't've\": \"must not have\", \"needn't\": \"need not\", \"needn't've\": \"need not have\",\"o'clock\": \"of the clock\",\n",
    "\n",
    "                           \"oughtn't\": \"ought not\", \"oughtn't've\": \"ought not have\", \"shan't\": \"shall not\", \"sha'n't\": \"shall not\", \"shan't've\": \"shall not have\",\n",
    "\n",
    "                           \"she'd\": \"she would\", \"she'd've\": \"she would have\", \"she'll\": \"she will\", \"she'll've\": \"she will have\", \"she's\": \"she is\",\n",
    "\n",
    "                           \"should've\": \"should have\", \"shouldn't\": \"should not\", \"shouldn't've\": \"should not have\", \"so've\": \"so have\",\"so's\": \"so as\",\n",
    "\n",
    "                           \"this's\": \"this is\",\"that'd\": \"that would\", \"that'd've\": \"that would have\", \"that's\": \"that is\", \"there'd\": \"there would\",\n",
    "\n",
    "                           \"there'd've\": \"there would have\", \"there's\": \"there is\", \"here's\": \"here is\",\"they'd\": \"they would\", \"they'd've\": \"they would have\",\n",
    "\n",
    "                           \"they'll\": \"they will\", \"they'll've\": \"they will have\", \"they're\": \"they are\", \"they've\": \"they have\", \"to've\": \"to have\",\n",
    "\n",
    "                           \"wasn't\": \"was not\", \"we'd\": \"we would\", \"we'd've\": \"we would have\", \"we'll\": \"we will\", \"we'll've\": \"we will have\", \"we're\": \"we are\",\n",
    "\n",
    "                           \"we've\": \"we have\", \"weren't\": \"were not\", \"what'll\": \"what will\", \"what'll've\": \"what will have\", \"what're\": \"what are\",\n",
    "\n",
    "                           \"what's\": \"what is\", \"what've\": \"what have\", \"when's\": \"when is\", \"when've\": \"when have\", \"where'd\": \"where did\", \"where's\": \"where is\",\n",
    "\n",
    "                           \"where've\": \"where have\", \"who'll\": \"who will\", \"who'll've\": \"who will have\", \"who's\": \"who is\", \"who've\": \"who have\",\n",
    "\n",
    "                           \"why's\": \"why is\", \"why've\": \"why have\", \"will've\": \"will have\", \"won't\": \"will not\", \"won't've\": \"will not have\",\n",
    "\n",
    "                           \"would've\": \"would have\", \"wouldn't\": \"would not\", \"wouldn't've\": \"would not have\", \"y'all\": \"you all\",\n",
    "\n",
    "                           \"y'all'd\": \"you all would\",\"y'all'd've\": \"you all would have\",\"y'all're\": \"you all are\",\"y'all've\": \"you all have\",\n",
    "\n",
    "                           \"you'd\": \"you would\", \"you'd've\": \"you would have\", \"you'll\": \"you will\", \"you'll've\": \"you will have\",\n",
    "\n",
    "                           \"you're\": \"you are\", \"you've\": \"you have\"}"
   ]
  },
  {
   "cell_type": "code",
   "execution_count": 7,
   "id": "dated-ending",
   "metadata": {},
   "outputs": [],
   "source": [
    "stop_words = set(stopwords.words('english')) \n",
    "def text_cleaner(text):\n",
    "    newString = text.lower()\n",
    "    newString = BeautifulSoup(newString, \"lxml\").text\n",
    "    newString = re.sub(r'\\([^)]*\\)', '', newString)\n",
    "    newString = re.sub('\"','', newString)\n",
    "    newString = ' '.join([contraction_mapping[t] if t in contraction_mapping else t for t in newString.split(\" \")])    \n",
    "                 #it changes the words like haven't to have not\n",
    "    newString = re.sub(r\"'s\\b\",\"\",newString)\n",
    "    newString = re.sub(\"[^a-zA-Z]\", \" \", newString) \n",
    "    tokens = [w for w in newString.split() if not w in stop_words]\n",
    "    long_words=[]\n",
    "    for i in tokens:\n",
    "        if len(i)>=3:                  #removing short word; Here we are considering the words only when their length is >=3\n",
    "            long_words.append(i)   \n",
    "    return (\" \".join(long_words)).strip()"
   ]
  },
  {
   "cell_type": "code",
   "execution_count": 8,
   "id": "endless-career",
   "metadata": {},
   "outputs": [],
   "source": [
    "cleaned_text = []\n",
    "for t in data['Text']:\n",
    "    cleaned_text.append(text_cleaner(t))"
   ]
  },
  {
   "cell_type": "code",
   "execution_count": 9,
   "id": "otherwise-copyright",
   "metadata": {},
   "outputs": [],
   "source": [
    "def abstract_cleaner(text):\n",
    "    newString = re.sub('\"','', text)\n",
    "    newString = ' '.join([contraction_mapping[t] if t in contraction_mapping else t for t in newString.split(\" \")])    \n",
    "    newString = re.sub(r\"'s\\b\",\"\",newString)\n",
    "    newString = re.sub(\"[^a-zA-Z]\", \" \", newString)\n",
    "    newString = newString.lower()\n",
    "    tokens=newString.split()\n",
    "    newString=''\n",
    "    for i in tokens:\n",
    "        if len(i)>1:    # it will remove the words like 'k' (may be presented by mistake in the dataset)                            \n",
    "            newString=newString+i+' '  \n",
    "    return newString\n",
    "\n",
    "#Call the above function and pass abstract column from the data set\n",
    "cleaned_abstract = []\n",
    "for t in data['Abstract']:\n",
    "    cleaned_abstract.append(abstract_cleaner(t))\n",
    "\n",
    "data['cleaned_text']=cleaned_text\n",
    "data['cleaned_abstract']=cleaned_abstract\n",
    "data['cleaned_abstract'].replace('', np.nan, inplace=True)\n",
    "data.dropna(axis=0,inplace=True)"
   ]
  },
  {
   "cell_type": "markdown",
   "id": "clinical-architect",
   "metadata": {},
   "source": [
    "**Adding Start and End token to the Abstract Column**"
   ]
  },
  {
   "cell_type": "code",
   "execution_count": 10,
   "id": "genuine-version",
   "metadata": {},
   "outputs": [],
   "source": [
    "data['cleaned_abstract'] = data['cleaned_abstract'].apply(lambda x : '_START_ '+ x + ' _END_')"
   ]
  },
  {
   "cell_type": "code",
   "execution_count": 11,
   "id": "transsexual-wholesale",
   "metadata": {},
   "outputs": [
    {
     "name": "stdout",
     "output_type": "stream",
     "text": [
      "Text: cancer disease reported one deadliest genetic maladies human genome research interest today doctors pathologist biologist others life science health professionals world health organization reported cancer disease million new cases disease major cause morbidity mortality accounts death globaly resulting million deaths world cancer report described cancer global problem projected increase million new cases several research cancer classification used different techniques using gene analysis classification important goal cancer disease research identify specific genes caused normal cells mutate cancer disease approaches technology reveals cellular molecular level cancer cancer disease sample cell biopsy processed thousands genes time subjected analysis single chip called microarray microarrays microscopic slides contain ordered series samples dna rna protein tissue others single chip microarray measure gene expressions gene sample represents human genome challenge cancer classification using microarray application model based selection prediction algorithm classify cancer genes using gene expression data computation time classification accuracy biological relevance cancer classification still question main goal study explore analyze published papers cancer classification scope paper present cancer classification using machine learning models paper mainly explored analyzed published papers topic papers extracted scopus classification multi strategy biological scalability method class evaluation meaning support good vector max margin machine boosting yes max margin yes class dependent decision tree yes entropy yes good function nearest yes similarity scalable neighbor cluster based scalable similarity yes similarity tuple gene weighted yes fair selection voting fisher linear discriminant fair discriminant yes analysis analysis neural yes perceptron fair network bayes yes distribution fair modeling pubmed analyzed using cited reference explorer section illustrate tasks classifier model following activities described next sections describing dataset section application machine learning cancer classifier method section papers unde study reference publication study used paper extracted pubmed scopus research continued gain interest researchers cancer classifiers gene expression analysis methods since refer figure scopus result search analysis documents per year source period shows topic interest still traction year reference publication study used paper extracted pubmed scopus research continued gain interest researchers cancer classifiers gene expression analysis methods since refer figure scopus result search analysis documents per year source period shows topic interest still traction year cited references explorer another tool analyze historical roots fields topics researches method used analysis based rpys frequency references cited researches terms publication years rpys analysis topic cited references period different citing publications years total publications cited cited publication years considered period publication year researchers cancer classification using gene expression started traction influential work peak research use microarray datasets evaluation using classification methods work marked constant cited reference citing years thereafter evaluations classification method discussed dataset dataset used microarray golub experiment dataset available online repository stanford hastie casi files process obtaining best model predicting disease classes given raw data set collected scanning genetic microarrays patients suffering one strains cancer patients scanner tabulated values genes assigned numerical value dataset aml contains gene description gene accession number dataset training set rows columns samples test set contains unique values genes values samples data normalized experiment select genes correlated outcome combined features reduces genes increase classification accuracy using linear method values reduced number genes training model using formula test mean difference average class given gene expression classes sigma standard deviation classes samples whose class values values running experiment using selected machine learning tool cancer classification method machine learning tool cancer classification model using google colaboratory notebook python programming run experiment aml dataset using pyml package classification regression methods svm classifier pyml classifier used experiment support vector machine boosting svm supervised learning method analyzed data classification\n",
      "\n",
      "\n",
      "Abstract: _START_ the world cancer report described cancer as global problem because it affects the whole greater population there will be projected increase to million new cases by there are several known published literatures on cancer classification techniques with varying models and implementations this paper presents the existing technology of microarray gene expression and classify the cancer genes using machine learning algorithms logical design was presented using supervised classification and gene selection model this model can improve the process and method of identifying and classifying cancer disease  _END_\n",
      "\n",
      "\n",
      "Text: distracted driving seen situations driver diverts attention activities critical safe driving situations could potentially cause road accidents likely occur traffic congested areas cognitive manual visual distractions factors affect driving capabilities driver exposed prolonged driving visual distraction context driving determined activities take driver eye road except activities necessary driving observing vehicles checking side mirrors national highway traffic safety administration provided guidelines public wherein states task diverts driver visual attention road exceed seconds guideline based previous research impact driver inattention near crash crash risks said drivers involved crashes average total time eyes road nearly seconds aside visual distraction conversations held driving take amount attention away task hand assessing results national motor vehicle crash causation survey found conversing passenger top factor coming internal source present assessed crashes hopes contributing ongoing research developing modern accurate models driver state monitoring systems paper presents non intrusive camera based approach developed implemented detect visual distraction cues cues detected visually transport network vehicle service drivers primary focus study since play role everyday commute putting passenger safety hands whenever choose use services also provides new knowledge regarding presence frequency distraction usual transit tnvs driver detecting driver distraction relies heavily analyzing visual data computer vision concepts methods implemented study carefully chosen coincide area inquiry paper presents model implements non intrusive camera based approach detecting grab driver lapse indicators figure depicts design model recorded footage driver face transit undergo processes detect lapse indicators visual data gathered recording faces grab drivers transit twenty respondents took part experiment training dataset made nineteen driver values remaining one left testing video file pre processed segmented parts wherein actual driving occurs means traffic footage discarded unused testing videos rendered twenty five frames per second frames furthermore video data muted turned grayscale sample one hundred twenty seconds taken video divided two equal subsets one eye gaze speaking sixty second subset made thirty seconds pure distraction seconds non distracted driving footage symmetry done avoid data becoming biased towards one prediction training set consists total fifty seven thousand values speaking eye gaze driver set one thousand five hundred frames measuring one minute system deliver real time detection distraction indicated processing video file recorded designed intention providing real time detection machine assess capability designed methodology pre processing done individual frames video extracted facial attributes necessary eye gaze tracking focuses eye movements accompanying head pose signifies glances assess whether driver clear view road pre determined sequence frames computer vision concepts applied model assesses binary classification whether driver distracted classifications compared perceptual evaluations account whether model accurate detection capability distractions model detecting power determined confusion matrix evaluation model measure based perceptual evaluation serve baseline action distraction data partitioned subsets driver data sets serving training data remaining driver data set testing data testing data included training whatsoever concepts introduced used implemented study assumed head movements relate driver looking figure depicts usual position grab driver scenario wherein driver eyes road automatically marked model glimpse automatically indicate visual distraction continuous seconds distraction must occur however returning gaze forward road also automatically signify non distracted event second rule used baseline identifying driver focused road means driver remain considered distracted even returning forward road specified frame interval met frames per second rendering driver must remain undistracted frames observed values detection change distracted non distracted rules applied speaking detection formal rules established time research recorded footage processed frame frame extract facial landmarks eye gaze action units driver process detecting distraction conducted gaze tracking head pose orientation action unit detection facial landmarks facial landmarks openface depicted figure used determine facial attributes driver openface software facial behavior analysis toolkit developed integrated implementation multicomp group technologies institute carnegie mellon university rainbow group computer laboratory university cambridge toolkit contains feature facial action unit recognition facial landmarks tracking head pose tracking gaze tracking output csv file used identifying distraction features columns gaze angle gaze angle used determine approximate gaze position driver looking well mouth movements exhibited driver columns obtained output openface two second timer functions separate existing counter outside timestamps video detected occurrence distraction signifies start counting since videos rendered fps two seconds distraction succession needed detect distraction however presence non distracted frame automatically reset timer per conducted research frames continuous non distraction needed reset timer certain events moving back forth road cell phone constitute continuous distraction frameset however still distraction frame buffer allows model detect distractions well mouth movements recognized based tracking points mouth signify frequent openings closure succession help openface facial landmarks plane used map mouth points location indicate movement eye gaze mouth movements also applied algorithm second rule done since specific time restriction placed upon mouth movement previous research binary classification assure accurate distraction detection model baseline established driving videos preprocessed beforehand subjected perceptual evaluation driver videos manually assess driver distracted indicating second timeframe driver distracted manual annotation served baseline model power detecting distraction indicators annotation used comparison model output meanwhile stratified fold method used cross validation binary classification values distracted distracted sort detected features ones classified possible distraction cues nearest neighbor classifier used classifier implemented using python version libraries numpy sklearn pandas csv utilized development model detection numpy used array creation needed hold values stored inside csv files sklearn contained cross validation functions pandas used writing creation new files storing output detection files model made lastly csv used csv file manipulation upon classification determining detection power model based manual annotations evaluations perceptual evaluators comparison four outputs determined true positive detection true negative detection false negative detection false positive detection placed confusion matrix order quantify extracted results depicted figure manual annotation evaluators outputs classifier inputted algorithm designed sift data apply timer indicates distraction consecutive frames amounting seconds fps video algorithm also clusters output data blocks second unifies data within cluster majority majority cluster predicted whole second assimilates value vice versa clustering allows proper matching account imprecision manual annotation well preventing random data classified distracted done separately speaking gaze outputs results consolidated function output final results detection model model validation binary classification determines selection either positive negative however comparing model output actual data training one four outcomes first true positive detection involves positive match detected feature manually annotated video evaluated high number output determine quality model detecting distractions low accuracy would mean formulated model suitable detecting distraction cues context study conducted true negative detection hand signifies point video wherein annotated distraction model detect well false positive detection would indicate model detected distraction cue wherein distraction present indicated perceptual evaluators false negative detection would indicate model detected distraction cue perceptual evaluators annotated segment containing distraction analyzing data accuracy recall precision methods used final validation model training measure harmonic mean precision recall done quantify give numerical score predictive power model score denotes perfect classification procedure model meanwhile denotes worst measure clarification result score coincide results accuracy however fmeasure allows better classification predictive power model instead assessing much model got right model achieved acceptable score assess validity testing phase process begins line model subjected assess whether right fit sample data obtained done order generalize performance model real world values model cannot taught cases exhibit distraction implementing kfold method validating data estimated well model perform implementation values taught fold method cross validation methodology partitions data set equal subsets one subsets allocated testing rest training model process repeated times time making use different subset testing data results tests averaged order produce output process results better accuracy compute time also increased due repetitive action driver set used testing data video length minutes seconds frames distracted portions video amounts frames nondistracted portions video totals frames model peaked measure value classifier presented figure specific driver set set chosen training data result fold validation model produced highest measure score comparison data sets factors attributing follows best lit recording numerous samples varying distraction occurrences driver speaking passenger face clear view camera sudden bursts extremely dark extremely light frames common three main features detection prototype individually assessed measure score namely raw values produced nearest neighbor classifier eye gaze action units facial landmarks raw values prosduced nearest neighbor classifier exclusively eye gaze lastly nearest neighbor classifier outputs processed time restriction value clustering algorithm feature presented highest measure data presented succeeding pages reflect results gathered specific feature graph presented figure rendered model indicate spiking accuracy raw detection spiking graph caused outliers present video inputs caused varying lighting conditions resulting poorer values outputted openface feature extraction running time restriction algorithm value clustering model reached neighbor values measure average statistics based confusion matrix made testing criteria presented table data presented table displays close margin actual predicted values confusion matrix presented predicting power model quantified model predicted seconds distracted seconds non distracted amounts percentage error distracted non distracted predictions respectively average statistics based confusion matrix made testing criteria presented table results study signify combination facial landmarks eye gaze action units provide detection power specific data tested\n",
      "\n",
      "\n",
      "Abstract: _START_ factors related to distraction have been one of the major causes of accidents related to driving this paper presents model that detects distraction cues of grab driver that mainly focuses on visual distraction and continuous communication indicated by mouth movements the data gathered was in the form of video footage obtained from each transit recorded each video was processed frame by frame to extract necessary features for detecting distraction cues through openface binary classification was used to assess whether the driver is distracted or not to determine the predictive power of the model fold cross validation method was used since grab has been widely used in the philippines the findings would allow for interesting knowledge regarding the behavior that these drivers exhibited in varying situations with regard to distraction  _END_\n",
      "\n",
      "\n",
      "Text: quality management system considered organizational structured consists quality procedures processes resources setup systematically achieve quality objectives today state universities colleges decided implement principles methodologies quality management system two main reasons first improve operations increase customer satisfactions second wish formal international recognition drive corporate reputation paper researchers identified current challenges quality assurance department academic sectors first quality assurance staff manual classification digital documents audit findings reports normally results delay data analysis late submission management reports top management addition creates bottleneck large data analyzed short period time becomes challenge administrative sectors main tasks create reports punctually provide revised manuscript received july ken jon tarnate mapua university manila philippines madhavi devaraj mapua university manila philippines adequate latest data top management make critical decisions second auditors quality audits management reviews difficulty identifying categorizing audit findings according major clauses iso qms requirements automatic text categorization fits solve problem quality assurance auditing team academic institutions however text categorization process also facing challenge terms picking right word representation model traditional machine learning algorithms purposed researchers developed deep neural networks models combine word representation models classify audit reports according major clauses iso qms requirement authors built two layered lstm lstm neural networks total number hidden units compare performance models traditional lstm lstm models main contributions paper development machine learning model help internal auditors identify classify audit reports according major clause iso qms requirements second researchers investigated learning ability four recurrent neural network models using combined word representation models importantly authors able speed process extractions generations management reports based results internal external quality audits conducted university exploratory data analysis researchers used rstudio ide version using programming language libraries ggplot dplyr quanteda caret dosnow using methods authors able analyze graph dataset sophisticated way using visualization techniques data mining meanwhile researchers also used matlab software version entire standard procedures text categorization process audit reports according iso qms requirements figure shows visual representation categorization process audit reports data gathering extraction exploratory data analysis data pre processing training validation testing rnn model evaluation rnn models datasets extracted quality assurance databases one state university philippines quality management system iso certified entire datasets composed audit reports audit reports labeled according major clauses specific clauses status types nonconformities major nonconformance minor opportunity improvement using rstudio ide version authors explored data quality assurance department higher education institutions using data visualization techniques helped top management foresee principles methodologies iso qms requirements lacking exploratory data analysis top management institution able identify areas management needed prioritized table shows breakdown entire datasets according major clauses basically quality audits auditors looking major clause iso qms requirements shows area support greatest number findings means current quality management system institution lacking support systems also means current weakness area support groups programs however lowest number findings found area improvement means current qms institution stable enough continue day day operations stage researchers cleaned normalized text data converted computable format deep learning model process train researchers tokenized first documents removed stopwords punctuations lowercase characters converted unstructured text data structured data done using word representation model authors used doc sequence gram model convert text data vectors reduced dimensionality data assigning fixed number length attributes word embedding data preparations researchers divided datasets three states training model validation model another testing rnn model categorization iso audit reports using recurrent neural networks published blue eyes intelligence engineering sciences publication retrieval number beiesp doi ijrte authors fed data recurrent neural networks model train learn experiment fully dense connected network used rnn models hidden units layers embedding dimension authors used adam optimization solver iteratively update network weights training used softmax activation functions normalize input values outputs vectors assigned probability distributions output values avoid fitting training data researchers used dropout regularization technique deep lstm deep bidirectional lstm figure shows actual code generate certain report needed quality assurance department code able summarize results internal external quality audits findings also able graphs calculates average nonconformities status findings figure based automated extraction process audit reports audit findings still open resolve however audit findings already resolved meanwhile nine audit findings undetermined figure based data mining process system identified count nonconformities entire university iso standard according results processes major nonconformance iso qms standard minor findings however findings good opportunity improve entire qms process university lastly auditors submitted compliance positive audit findings indicates existing processes needs maintained retained causes positive impact university authors evaluated model getting classification accuracy respect cross entropy loss table shows classification accuracy rnn model based results deep bidirectional lstm outperformed three rnn model table iii shows actual predictions deep bidirectional lstm model predicted nine correct major clauses trials\n",
      "\n",
      "\n",
      "Abstract: _START_ the quality assurance department of the educational sectors is rapidly generating digital documents the continuous increase of digital documents may become risk and challenge in the future interpreting and analyzing those digital data in short period of time is very critical and crucial for the top management to support their decisions by this purpose this paper explored the possibility of machine learning and data mining process to improve the quality assurance management system process specifically in the quality audit procedures and generation of management reports the researchers developed machine learning model that predicts an audit report according to the major clauses of the iso quality management system qms requirements the proposed data mining process helps the top management to identify which principles of the iso qms requirements they are lacking the authors used four different recurrent neural networks rnns as classifier long short term memory lstm bidirectional lstm deep lstm and deep bidirectional lstm recurrent neural networks with combine word representation models word encoding plus an embedding dimension layer the deep bidirectional lstm outperformed the other three rnn models where it achieved an average classification accuracy of  _END_\n",
      "\n",
      "\n"
     ]
    }
   ],
   "source": [
    "for i in range(3):\n",
    "    print(\"Text:\",data['cleaned_text'][i])\n",
    "    print(\"\\n\")\n",
    "    print(\"Abstract:\",data['cleaned_abstract'][i])\n",
    "    print(\"\\n\")"
   ]
  },
  {
   "cell_type": "code",
   "execution_count": 12,
   "id": "marine-repeat",
   "metadata": {},
   "outputs": [
    {
     "name": "stdout",
     "output_type": "stream",
     "text": [
      "text max length:  576\n",
      "abstract max length:  87\n"
     ]
    }
   ],
   "source": [
    "text_word_count = 0       \n",
    "abstract_word_count = 0  \n",
    "\n",
    "#get highest count\n",
    "for a in data['cleaned_text']:\n",
    "    if len(a.split()) > text_word_count:\n",
    "        text_word_count = len(a.split())\n",
    "\n",
    "for a in data['cleaned_text']:\n",
    "    if len(a.split()) < text_word_count:\n",
    "        text_word_count = len(a.split())        \n",
    "\n",
    "#get highest count\n",
    "for b in data['cleaned_abstract']:\n",
    "    if len(b.split()) > abstract_word_count:\n",
    "      abstract_word_count = (len(b.split()))\n",
    "    \n",
    "for b in data['cleaned_abstract']:\n",
    "    if len(b.split()) < abstract_word_count:\n",
    "      abstract_word_count = (len(b.split()))\n",
    "    \n",
    "print(\"text max length: \",text_word_count)\n",
    "print(\"abstract max length: \",abstract_word_count)"
   ]
  },
  {
   "cell_type": "markdown",
   "id": "integral-strap",
   "metadata": {},
   "source": [
    "**Splitting the dataset for training and testing**"
   ]
  },
  {
   "cell_type": "code",
   "execution_count": 13,
   "id": "absent-mechanism",
   "metadata": {},
   "outputs": [],
   "source": [
    "from sklearn.model_selection import train_test_split\n",
    "x_tr,x_val,y_tr,y_val=train_test_split(data['cleaned_text'],data['cleaned_abstract'],test_size=0.1,random_state=0,shuffle=True) "
   ]
  },
  {
   "cell_type": "markdown",
   "id": "tough-prime",
   "metadata": {},
   "source": [
    "**tokenizer for Text and Abstract**"
   ]
  },
  {
   "cell_type": "code",
   "execution_count": 14,
   "id": "directed-assistant",
   "metadata": {},
   "outputs": [],
   "source": [
    "def tokenize(train, val, max_length):\n",
    "    tokenizer = Tokenizer()\n",
    "    tokenizer.fit_on_texts(list(train))\n",
    "\n",
    "    #convert text sequences into integer sequences\n",
    "    _train    =   tokenizer.texts_to_sequences(train) #Transforms each text in texts to a sequence of integers.\n",
    "    _val   =   tokenizer.texts_to_sequences(val)\n",
    "\n",
    "    #padding zero upto maximum length\n",
    "    _train    =   pad_sequences(_train,  maxlen=max_length, padding='post') \n",
    "    _val   =   pad_sequences(_val, maxlen=max_length, padding='post')\n",
    "\n",
    "    voc_size   =  len(tokenizer.word_index) +1 \n",
    "    #here we are calcuating vocabulary size. since tokenizer returns unique words.\n",
    "    #their word indexes always starts with 0. so vocabulary size=length(word_index)+1\n",
    "    \n",
    "    return _train, _val, voc_size, tokenizer"
   ]
  },
  {
   "cell_type": "code",
   "execution_count": 15,
   "id": "ordinary-window",
   "metadata": {},
   "outputs": [],
   "source": [
    "x_tr, x_val, x_voc_size, x_tokenizer = tokenize(x_tr, x_val, text_word_count)\n",
    "y_tr, y_val, y_voc_size, y_tokenizer = tokenize(y_tr, y_val, abstract_word_count)"
   ]
  },
  {
   "cell_type": "markdown",
   "id": "geographic-wagon",
   "metadata": {},
   "source": [
    "**Building the model and model compilation**"
   ]
  },
  {
   "cell_type": "code",
   "execution_count": 16,
   "id": "boxed-quarterly",
   "metadata": {},
   "outputs": [
    {
     "name": "stdout",
     "output_type": "stream",
     "text": [
      "Model: \"functional_1\"\n",
      "__________________________________________________________________________________________________\n",
      "Layer (type)                    Output Shape         Param #     Connected to                     \n",
      "==================================================================================================\n",
      "input_1 (InputLayer)            [(None, 576)]        0                                            \n",
      "__________________________________________________________________________________________________\n",
      "embedding (Embedding)           (None, 576, 500)     414500      input_1[0][0]                    \n",
      "__________________________________________________________________________________________________\n",
      "lstm (LSTM)                     [(None, 576, 500), ( 2002000     embedding[0][0]                  \n",
      "__________________________________________________________________________________________________\n",
      "input_2 (InputLayer)            [(None, None)]       0                                            \n",
      "__________________________________________________________________________________________________\n",
      "lstm_1 (LSTM)                   [(None, 576, 500), ( 2002000     lstm[0][0]                       \n",
      "__________________________________________________________________________________________________\n",
      "embedding_1 (Embedding)         (None, None, 500)    71000       input_2[0][0]                    \n",
      "__________________________________________________________________________________________________\n",
      "lstm_2 (LSTM)                   [(None, 576, 500), ( 2002000     lstm_1[0][0]                     \n",
      "__________________________________________________________________________________________________\n",
      "lstm_3 (LSTM)                   [(None, None, 500),  2002000     embedding_1[0][0]                \n",
      "                                                                 lstm_2[0][1]                     \n",
      "                                                                 lstm_2[0][2]                     \n",
      "__________________________________________________________________________________________________\n",
      "attention_layer (AttentionLayer ((None, None, 500),  500500      lstm_2[0][0]                     \n",
      "                                                                 lstm_3[0][0]                     \n",
      "__________________________________________________________________________________________________\n",
      "concat_layer (Concatenate)      (None, None, 1000)   0           lstm_3[0][0]                     \n",
      "                                                                 attention_layer[0][0]            \n",
      "__________________________________________________________________________________________________\n",
      "time_distributed (TimeDistribut (None, None, 142)    142142      concat_layer[0][0]               \n",
      "==================================================================================================\n",
      "Total params: 9,136,142\n",
      "Trainable params: 9,136,142\n",
      "Non-trainable params: 0\n",
      "__________________________________________________________________________________________________\n"
     ]
    }
   ],
   "source": [
    "from keras import backend as K \n",
    "K.clear_session() \n",
    "latent_dim = 500 # Latent dimensionality of the encoding space.\n",
    "\n",
    "# flow should be like this: Encoder->stacks of LSTM(in our case it is 3)->decoder\n",
    "\n",
    "# Encoder \n",
    "encoder_inputs = Input(shape=(text_word_count,)) \n",
    "enc_emb = Embedding(x_voc_size, latent_dim,trainable=True)(encoder_inputs)\n",
    "#passing the vocabulary size of reviews(x_voc_size), latent dim-dimension vector\n",
    "#encoder_inputs -came from the previous line code\n",
    "\n",
    "#LSTM 1 since we've decided to use 3 stack layer we've 3 LSTM layers here\n",
    "encoder_lstm1 = LSTM(latent_dim,return_sequences=True,return_state=True) #see the definition from the above cell\n",
    "encoder_output1, state_h1, state_c1 = encoder_lstm1(enc_emb) #passing embedded words to LSTM.\n",
    "                       #it always returns the first output, intermediate state and cell state\n",
    "\n",
    "#LSTM 2 \n",
    "encoder_lstm2 = LSTM(latent_dim,return_sequences=True,return_state=True) \n",
    "encoder_output2, state_h2, state_c2 = encoder_lstm2(encoder_output1) #output from previous state will be passed here\n",
    "\n",
    "#LSTM 3 \n",
    "encoder_lstm3=LSTM(latent_dim, return_state=True, return_sequences=True) \n",
    "encoder_outputs, state_h, state_c= encoder_lstm3(encoder_output2) #output from previous state will be passed here \n",
    "                                                                  #and then produces the final hidden and cell states\n",
    "\n",
    "# Set up the decoder. \n",
    "decoder_inputs = Input(shape=(None,)) #there is no specific number of tokens defined for output. That's why shape= none\n",
    "dec_emb_layer = Embedding(y_voc_size, latent_dim,trainable=True) #embedding happening with \n",
    "                                                     #the summary column in data set(y_voc)\n",
    "dec_emb = dec_emb_layer(decoder_inputs) #passing decoder_inputs\n",
    "\n",
    "#defining decoder LSTM: LSTM using encoder_states as initial state\n",
    "decoder_lstm = LSTM(latent_dim, return_sequences=True, return_state=True) # defining LSTM\n",
    "decoder_outputs,decoder_fwd_state, decoder_back_state = decoder_lstm(dec_emb,initial_state=[state_h, state_c]) \n",
    "\n",
    "attn_layer = AttentionLayer(name='attention_layer') # here it uses global attention-means it consider all words to develop the context vector\n",
    "attn_out, attn_states = attn_layer([encoder_outputs, decoder_outputs]) \n",
    "\n",
    "# Concat attention output and decoder LSTM output \n",
    "decoder_concat_input = Concatenate(axis=-1, name='concat_layer')([decoder_outputs, attn_out])\n",
    "\n",
    "#Dense layer\n",
    "decoder_dense = TimeDistributed(Dense(y_voc_size, activation='softmax')) \n",
    "decoder_outputs = decoder_dense(decoder_concat_input) \n",
    "\n",
    "# Define the model\n",
    "model = Model([encoder_inputs, decoder_inputs], decoder_outputs) \n",
    "model.summary()"
   ]
  },
  {
   "cell_type": "code",
   "execution_count": 17,
   "id": "adopted-recommendation",
   "metadata": {},
   "outputs": [
    {
     "name": "stdout",
     "output_type": "stream",
     "text": [
      "Epoch 1/50\n",
      "1/1 [==============================] - 2s 2s/step - loss: 4.9557 - val_loss: 4.9049\n",
      "Epoch 2/50\n",
      "1/1 [==============================] - 0s 499ms/step - loss: 4.8745 - val_loss: 5.7637\n",
      "Epoch 00002: early stopping\n"
     ]
    }
   ],
   "source": [
    "model.compile(optimizer='rmsprop', loss='sparse_categorical_crossentropy')\n",
    "es = EarlyStopping(monitor='val_loss', mode='min', verbose=1)\n",
    "history=model.fit([x_tr,y_tr[:,:-1]], y_tr.reshape(y_tr.shape[0],y_tr.shape[1], 1)[:,1:] ,epochs=50,callbacks=[es],batch_size=512, validation_data=([x_val,y_val[:,:-1]], y_val.reshape(y_val.shape[0],y_val.shape[1], 1)[:,1:]))"
   ]
  },
  {
   "cell_type": "code",
   "execution_count": 18,
   "id": "hollow-reservation",
   "metadata": {},
   "outputs": [
    {
     "data": {
      "image/png": "[encoded data removed]",
      "text/plain": [
       "<Figure size 432x288 with 1 Axes>"
      ]
     },
     "metadata": {
      "needs_background": "light"
     },
     "output_type": "display_data"
    }
   ],
   "source": [
    "from matplotlib import pyplot \n",
    "pyplot.plot(history.history['loss'], label='train') \n",
    "pyplot.plot(history.history['val_loss'], label='test') \n",
    "pyplot.legend()\n",
    "pyplot.show();"
   ]
  },
  {
   "cell_type": "markdown",
   "id": "peaceful-refund",
   "metadata": {},
   "source": [
    "**building a dictionary in order to convert index to word**"
   ]
  },
  {
   "cell_type": "code",
   "execution_count": 19,
   "id": "cosmetic-tours",
   "metadata": {},
   "outputs": [],
   "source": [
    "reverse_target_word_index=y_tokenizer.index_word \n",
    "reverse_source_word_index=x_tokenizer.index_word \n",
    "target_word_index=y_tokenizer.word_index"
   ]
  },
  {
   "cell_type": "code",
   "execution_count": 20,
   "id": "pending-mechanism",
   "metadata": {},
   "outputs": [],
   "source": [
    "# encoder inference\n",
    "encoder_model = Model(inputs=encoder_inputs,outputs=[encoder_outputs, state_h, state_c])\n",
    "\n",
    "# decoder inference\n",
    "# Below tensors will hold the states of the previous time step\n",
    "decoder_state_input_h = Input(shape=(latent_dim,))\n",
    "decoder_state_input_c = Input(shape=(latent_dim,))\n",
    "decoder_hidden_state_input = Input(shape=(text_word_count,latent_dim))\n",
    "\n",
    "# Get the embeddings of the decoder sequence\n",
    "dec_emb2= dec_emb_layer(decoder_inputs)\n",
    "\n",
    "# To predict the next word in the sequence, set the initial states to the states from the previous time step\n",
    "decoder_outputs2, state_h2, state_c2 = decoder_lstm(dec_emb2, initial_state=[decoder_state_input_h, decoder_state_input_c])\n",
    "\n",
    "#attention inference\n",
    "attn_out_inf, attn_states_inf = attn_layer([decoder_hidden_state_input, decoder_outputs2])\n",
    "decoder_inf_concat = Concatenate(axis=-1, name='concat')([decoder_outputs2, attn_out_inf])#concatenate function takes as input a list of tensors, \n",
    "#all of the same shape except for the concatenation axis, and returns a single tensor, the concatenation of all inputs.\n",
    "\n",
    "# A dense softmax layer to generate prob dist. over the target vocabulary\n",
    "decoder_outputs2 = decoder_dense(decoder_inf_concat)\n",
    "\n",
    "# Final decoder model\n",
    "decoder_model = Model(\n",
    "[decoder_inputs] + [decoder_hidden_state_input,decoder_state_input_h, decoder_state_input_c],\n",
    "[decoder_outputs2] + [state_h2, state_c2])"
   ]
  },
  {
   "cell_type": "code",
   "execution_count": 21,
   "id": "incorporated-throat",
   "metadata": {},
   "outputs": [],
   "source": [
    "def decode_sequence(input_seq):\n",
    "    # Encode the input as state vectors.\n",
    "    e_out, e_h, e_c = encoder_model.predict(input_seq)\n",
    "\n",
    "    # Generate empty target sequence of length 1.\n",
    "    target_seq = np.zeros((1,1))\n",
    "\n",
    "    # Chose the 'start' word as the first word of the target sequence\n",
    "    target_seq[0, 0] = target_word_index['start']\n",
    "\n",
    "    stop_condition = False\n",
    "    decoded_sentence = ''\n",
    "    while not stop_condition:\n",
    "        output_tokens, h, c = decoder_model.predict([target_seq] + [e_out, e_h, e_c])\n",
    "\n",
    "        # Sample a token\n",
    "        sampled_token_index = np.argmax(output_tokens[0, -1, :])\n",
    "        sampled_token = reverse_target_word_index[sampled_token_index]\n",
    "\n",
    "        if(sampled_token!='end'):\n",
    "            decoded_sentence += ' '+sampled_token\n",
    "\n",
    "        # Exit condition: either hit max length or find stop word.\n",
    "        if (sampled_token == 'end' or len(decoded_sentence.split()) >= (abstract_word_count-1)):\n",
    "            stop_condition = True  # ultimately the predicted summary \n",
    "                                #should not be greater than the maximum given summary length\n",
    "                                #that's why the condition >= (max_len_summary-1))\n",
    "\n",
    "        # Update the target sequence (of length 1).\n",
    "        target_seq = np.zeros((1,1))\n",
    "        target_seq[0, 0] = sampled_token_index\n",
    "\n",
    "        # Update internal states\n",
    "        e_h, e_c = h, c\n",
    "\n",
    "    return decoded_sentence"
   ]
  },
  {
   "cell_type": "markdown",
   "id": "presidential-commodity",
   "metadata": {},
   "source": [
    "# b)\tCompare the abstractive summarization result  with the abstract provided in the papers. Show their similarity score. "
   ]
  },
  {
   "cell_type": "code",
   "execution_count": 22,
   "id": "developing-horse",
   "metadata": {},
   "outputs": [],
   "source": [
    "def seq2summary(input_seq):\n",
    "    newString=''\n",
    "    for i in input_seq:\n",
    "      if((i!=0 and i!=target_word_index['start']) and i!=target_word_index['end']):\n",
    "        newString=newString+reverse_target_word_index[i]+' '\n",
    "    return newString\n",
    "\n",
    "def seq2text(input_seq):\n",
    "    newString=''\n",
    "    for i in input_seq:\n",
    "      if(i!=0):\n",
    "        newString=newString+reverse_source_word_index[i]+' '\n",
    "    return newString"
   ]
  },
  {
   "cell_type": "code",
   "execution_count": 23,
   "id": "wicked-modification",
   "metadata": {},
   "outputs": [
    {
     "name": "stdout",
     "output_type": "stream",
     "text": [
      "Text: quality system considered consists quality processes quality today state quality system two main first increase second formal recognition paper researchers quality first quality manual classification documents results data analysis top data analyzed period time challenge main tasks provide university university data top critical second quality identifying major problem quality however process also challenge terms right model machine learning researchers developed neural models models classify major two neural total number units performance models models main paper development machine learning model help internal identify classify major second researchers learning four neural network models using combined models process based results internal quality conducted university data analysis researchers used version using programming libraries using methods analyze graph dataset using techniques data meanwhile researchers also used software version standard process figure shows visual process data extraction data analysis data pre processing training validation testing model evaluation models datasets extracted quality one state university quality system datasets major specific major using version explored data quality using data techniques top data analysis top identify areas needed table shows datasets major quality looking major shows area support number means quality system support systems also means area support however number found area means researchers normalized data learning model process researchers first documents data data done using model used sequence model data reduced data number length attributes data researchers divided datasets three states training model validation model another testing model using neural published eyes publication number data neural model experiment network used models units used network training used functions values outputs assigned output values avoid training data researchers used figure shows actual certain report needed quality results internal quality also average figure based extraction process still however meanwhile figure based data process system university standard results processes major standard however good process university lastly positive indicates existing processes positive impact university evaluated model classification accuracy cross entropy table shows classification accuracy model based results three model table shows actual predictions model predicted major \n",
      "\n",
      "\n",
      "Original Abstract: the of the is the continuous increase of and in the and data in of is and for the to by this this paper the of machine learning and data process to improve the process in the and of the machine learning model that report to the major of the the data process the to of the are the used as and with models the the models it classification of \n",
      "\n",
      "\n",
      "Generated Abstract:  the the the the the the the the the the the the the the the the the the the the the the the the the the the the the the the the the the the the the the the the the the the the the the the the the the the the the the the the the the the the the the the the the the the the the the the the the the the the the the the the the the the the the the\n",
      "\n",
      "\n"
     ]
    }
   ],
   "source": [
    "for i in range(len(x_val)):\n",
    "  print(\"Text:\",seq2text(x_val[i]))\n",
    "  print(\"\\n\")\n",
    "\n",
    "  original_abstract = seq2summary(y_val[i])\n",
    "  generated_abstract = decode_sequence(x_val[i].reshape(1,text_word_count))\n",
    "\n",
    "  print(\"Original Abstract:\",original_abstract)\n",
    "  print(\"\\n\")\n",
    "  print(\"Generated Abstract:\",generated_abstract)\n",
    "  print(\"\\n\")"
   ]
  },
  {
   "cell_type": "code",
   "execution_count": 24,
   "id": "other-venezuela",
   "metadata": {},
   "outputs": [],
   "source": [
    "compare_original_predicted = [original_abstract,generated_abstract]"
   ]
  },
  {
   "cell_type": "code",
   "execution_count": 25,
   "id": "sorted-reservation",
   "metadata": {},
   "outputs": [],
   "source": [
    "import gensim\n",
    "from gensim.matutils import softcossim \n",
    "from gensim import corpora\n",
    "import gensim.downloader as api \n",
    "from gensim.utils import simple_preprocess"
   ]
  },
  {
   "cell_type": "code",
   "execution_count": 26,
   "id": "fifty-scope",
   "metadata": {},
   "outputs": [],
   "source": [
    "# Download the FastText model\n",
    "fasttext_model300 = api.load('fasttext-wiki-news-subwords-300')"
   ]
  },
  {
   "cell_type": "code",
   "execution_count": 27,
   "id": "coastal-colorado",
   "metadata": {},
   "outputs": [
    {
     "name": "stdout",
     "output_type": "stream",
     "text": [
      "Similarity score between the original abstract and the generated abstract is 85.4%\n"
     ]
    }
   ],
   "source": [
    "# Prepare a dictionary and a corpus.\n",
    "dictionary = corpora.Dictionary([simple_preprocess(doc) for doc in compare_original_predicted])\n",
    "\n",
    "# Prepare the similarity matrix\n",
    "similarity_matrix = fasttext_model300.similarity_matrix(dictionary, tfidf=None, threshold=0.0, exponent=2.0, nonzero_limit=100)\n",
    "\n",
    "# Convert the sentences into bag-of-words vectors.\n",
    "orig_abs = dictionary.doc2bow(simple_preprocess(original_abstract))\n",
    "gen_abs = dictionary.doc2bow(simple_preprocess(generated_abstract))\n",
    "\n",
    "#printing the result\n",
    "similarityScore = softcossim(orig_abs, gen_abs, similarity_matrix)\n",
    "print('Similarity score between the original abstract and the generated abstract is {:.1%}'.format(similarityScore))"
   ]
  },
  {
   "cell_type": "markdown",
   "id": "saved-brazil",
   "metadata": {},
   "source": [
    "*The similarity score is fairly high but when you look at the actual results, there is no evident on its similarity therefore I the similarity score is not accurate or I fed the wrong data to it*"
   ]
  },
  {
   "cell_type": "markdown",
   "id": "severe-dairy",
   "metadata": {},
   "source": [
    "# Question-2: Extractive Summarization"
   ]
  },
  {
   "cell_type": "markdown",
   "id": "employed-thesis",
   "metadata": {},
   "source": [
    "# a)\tUse the same journal papers used in question-1 to derive extractive summarization of each paper."
   ]
  },
  {
   "cell_type": "markdown",
   "id": "stupid-surfing",
   "metadata": {},
   "source": [
    "**Read Dataset**"
   ]
  },
  {
   "cell_type": "code",
   "execution_count": 28,
   "id": "closing-victim",
   "metadata": {},
   "outputs": [],
   "source": [
    "df_cancer = pd.read_csv(\"cancer_mod.csv\")\n",
    "df_dist = pd.read_csv(\"distraction_mod.csv\")"
   ]
  },
  {
   "cell_type": "code",
   "execution_count": 29,
   "id": "virtual-guarantee",
   "metadata": {},
   "outputs": [
    {
     "data": {
      "text/html": [
       "<div>\n",
       "<style scoped>\n",
       "    .dataframe tbody tr th:only-of-type {\n",
       "        vertical-align: middle;\n",
       "    }\n",
       "\n",
       "    .dataframe tbody tr th {\n",
       "        vertical-align: top;\n",
       "    }\n",
       "\n",
       "    .dataframe thead th {\n",
       "        text-align: right;\n",
       "    }\n",
       "</style>\n",
       "<table border=\"1\" class=\"dataframe\">\n",
       "  <thead>\n",
       "    <tr style=\"text-align: right;\">\n",
       "      <th></th>\n",
       "      <th>Text</th>\n",
       "      <th>Abstract</th>\n",
       "    </tr>\n",
       "  </thead>\n",
       "  <tbody>\n",
       "    <tr>\n",
       "      <th>0</th>\n",
       "      <td>Cancer disease has been reported as one of the deadliest genetic maladies of the human genome. It has been the research interest until today by doctors, pathologist, biologist and others life scie...</td>\n",
       "      <td>The World Cancer Report described cancer as a global problem because it affects the whole greater population. There will be a projected increase to 20 million new cases by 2025 [2]. There are seve...</td>\n",
       "    </tr>\n",
       "  </tbody>\n",
       "</table>\n",
       "</div>"
      ],
      "text/plain": [
       "                                                                                                                                                                                                      Text  \\\n",
       "0  Cancer disease has been reported as one of the deadliest genetic maladies of the human genome. It has been the research interest until today by doctors, pathologist, biologist and others life scie...   \n",
       "\n",
       "                                                                                                                                                                                                  Abstract  \n",
       "0  The World Cancer Report described cancer as a global problem because it affects the whole greater population. There will be a projected increase to 20 million new cases by 2025 [2]. There are seve...  "
      ]
     },
     "execution_count": 29,
     "metadata": {},
     "output_type": "execute_result"
    }
   ],
   "source": [
    "df_cancer.head()"
   ]
  },
  {
   "cell_type": "code",
   "execution_count": 30,
   "id": "incredible-buffer",
   "metadata": {},
   "outputs": [
    {
     "data": {
      "text/html": [
       "<div>\n",
       "<style scoped>\n",
       "    .dataframe tbody tr th:only-of-type {\n",
       "        vertical-align: middle;\n",
       "    }\n",
       "\n",
       "    .dataframe tbody tr th {\n",
       "        vertical-align: top;\n",
       "    }\n",
       "\n",
       "    .dataframe thead th {\n",
       "        text-align: right;\n",
       "    }\n",
       "</style>\n",
       "<table border=\"1\" class=\"dataframe\">\n",
       "  <thead>\n",
       "    <tr style=\"text-align: right;\">\n",
       "      <th></th>\n",
       "      <th>Text</th>\n",
       "      <th>Abstract</th>\n",
       "    </tr>\n",
       "  </thead>\n",
       "  <tbody>\n",
       "    <tr>\n",
       "      <th>0</th>\n",
       "      <td>Distracted driving can be seen in some situations where-in the driver diverts his/her attention from activities critical for safe driving [1] and in some situations, this could potentially cause r...</td>\n",
       "      <td>Factors related to distraction have been one of the major causes of accidents related to driving. This paper presents a model that detects distraction cues of a Grab driver that mainly focuses on ...</td>\n",
       "    </tr>\n",
       "  </tbody>\n",
       "</table>\n",
       "</div>"
      ],
      "text/plain": [
       "                                                                                                                                                                                                      Text  \\\n",
       "0  Distracted driving can be seen in some situations where-in the driver diverts his/her attention from activities critical for safe driving [1] and in some situations, this could potentially cause r...   \n",
       "\n",
       "                                                                                                                                                                                                  Abstract  \n",
       "0  Factors related to distraction have been one of the major causes of accidents related to driving. This paper presents a model that detects distraction cues of a Grab driver that mainly focuses on ...  "
      ]
     },
     "execution_count": 30,
     "metadata": {},
     "output_type": "execute_result"
    }
   ],
   "source": [
    "df_dist.head()"
   ]
  },
  {
   "cell_type": "markdown",
   "id": "coral-student",
   "metadata": {},
   "source": [
    "**split article into sentences**"
   ]
  },
  {
   "cell_type": "code",
   "execution_count": 31,
   "id": "animal-morning",
   "metadata": {},
   "outputs": [],
   "source": [
    "for s in df_cancer['Text']:\n",
    "    sentences_cancer = sent_tokenize(s)\n",
    "    \n",
    "for s in df_dist['Text']:\n",
    "    sentences_dist  = sent_tokenize(s)"
   ]
  },
  {
   "cell_type": "code",
   "execution_count": 32,
   "id": "received-torture",
   "metadata": {},
   "outputs": [
    {
     "data": {
      "text/plain": [
       "['Cancer disease has been reported as one of the deadliest genetic maladies of the human genome.',\n",
       " 'It has been the research interest until today by doctors, pathologist, biologist and others life science and health professionals.',\n",
       " 'The World Health Organization (WHO) reported cancer disease having 14 million new cases in 2012.',\n",
       " 'This disease is a major cause or morbidity and mortality that accounts of death globaly resulting 8.8 million deaths in 2015 [1].',\n",
       " 'The World Cancer Report described cancer as a global problem and projected an increase to 20 million new cases by 2025 [2].']"
      ]
     },
     "execution_count": 32,
     "metadata": {},
     "output_type": "execute_result"
    }
   ],
   "source": [
    "sentences_cancer[:5]"
   ]
  },
  {
   "cell_type": "code",
   "execution_count": 33,
   "id": "capable-proof",
   "metadata": {},
   "outputs": [
    {
     "data": {
      "text/plain": [
       "['Distracted driving can be seen in some situations where-in the driver diverts his/her attention from activities critical for safe driving [1] and in some situations, this could potentially cause road accidents which are most likely to occur in traffic congested areas.',\n",
       " 'Cognitive, manual, and visual distractions are some factors that affect the driving capabilities of a driver when exposed to prolonged driving [2].',\n",
       " 'Visual distraction in the context of driving can be determined as activities that take the driver’s eye off the road, except for activities that are necessary in driving such as observing other vehicles or checking side mirrors [3].',\n",
       " 'The National Highway Traffic Safety Administration (NHTSA) of the U.S.A. has provided guidelines for the public wherein it states that a task that diverts the driver’s visual attention from the road should not exceed 2 seconds [4].',\n",
       " 'This guideline was based on their previous research of the impact that driver inattention has on near-crash or crash risks and it is said that drivers involved in crashes had an average total time of eyes off the road of nearly 2 seconds [5][6].']"
      ]
     },
     "execution_count": 33,
     "metadata": {},
     "output_type": "execute_result"
    }
   ],
   "source": [
    "sentences_dist[:5]"
   ]
  },
  {
   "cell_type": "markdown",
   "id": "statistical-queue",
   "metadata": {},
   "source": [
    "**Import word embeddings**"
   ]
  },
  {
   "cell_type": "code",
   "execution_count": 34,
   "id": "legendary-planner",
   "metadata": {},
   "outputs": [],
   "source": [
    "word_embeddings = {}\n",
    "f = open('glove.6B.100d.txt', encoding='utf-8')\n",
    "for line in f:\n",
    "    values = line.split()\n",
    "    word = values[0]\n",
    "    coefs = np.asarray(values[1:], dtype='float32')\n",
    "    word_embeddings[word] = coefs\n",
    "f.close()"
   ]
  },
  {
   "cell_type": "markdown",
   "id": "material-province",
   "metadata": {},
   "source": [
    "**Text Preprocessing**"
   ]
  },
  {
   "cell_type": "code",
   "execution_count": 35,
   "id": "stylish-providence",
   "metadata": {},
   "outputs": [],
   "source": [
    "#cancer dataset\n",
    "clean_sentences_cancer = pd.Series(sentences_cancer).str.replace(\"[^a-zA-Z]\", \" \")\n",
    "clean_sentences_cancer = [s.lower() for s in clean_sentences_cancer]\n",
    "\n",
    "#distraction dataset\n",
    "clean_sentences_dist = pd.Series(sentences_dist).str.replace(\"[^a-zA-Z]\", \" \")\n",
    "clean_sentences_dist = [s.lower() for s in clean_sentences_dist]"
   ]
  },
  {
   "cell_type": "code",
   "execution_count": 36,
   "id": "eligible-dining",
   "metadata": {},
   "outputs": [],
   "source": [
    "stop_words = stopwords.words('english')\n",
    "def cleanSentences(text):\n",
    "    removeStopWords = []\n",
    "    newSentence = []\n",
    "    \n",
    "    newText = text.lower()\n",
    "    newText = newText.split(' ')\n",
    "    newText = BeautifulSoup(newText, \"lxml\").text\n",
    "    newText = re.sub(r'\\([^)]*\\)', '', newText)\n",
    "    newText = re.sub('\"','', newText)\n",
    "    newText = ' '.join([contraction_mapping[t] if t in contraction_mapping else t for t in newText.split(\" \")])    \n",
    "    newText = re.sub(r\"'s\\b\",\"\",newText)\n",
    "    newText = re.sub(\"[^a-zA-Z]\", \" \", newText) \n",
    "    \n",
    "    \n",
    "    removeStopWords = [i for i in newText if i not in stopWords]\n",
    "    \n",
    "    for i in removeStopWords:\n",
    "        if i in contraction:\n",
    "            newSentence.append(contraction[i])\n",
    "        else:\n",
    "            newSentence.append(i)\n",
    "    newSentence = ' '.join(newSentence)\n",
    "    newSentence = newSentence.replace(\"<br />\",\"\")\n",
    "    newSentence = re.sub(\"[^a-z. ]\", \"\", newSentence) \n",
    "    return newSentence"
   ]
  },
  {
   "cell_type": "code",
   "execution_count": 37,
   "id": "norwegian-function",
   "metadata": {},
   "outputs": [],
   "source": [
    "def remove_stopwords(sen):\n",
    "    sen_new = \" \".join([i for i in sen if i not in stop_words])\n",
    "    return sen_new"
   ]
  },
  {
   "cell_type": "code",
   "execution_count": 38,
   "id": "surrounded-delta",
   "metadata": {},
   "outputs": [],
   "source": [
    "clean_sentences_cancer = [remove_stopwords(r.split()) for r in clean_sentences_cancer]\n",
    "clean_sentences_dist = [remove_stopwords(r.split()) for r in clean_sentences_dist]"
   ]
  },
  {
   "cell_type": "markdown",
   "id": "portuguese-course",
   "metadata": {},
   "source": [
    "**Vector Representation of Sentences**"
   ]
  },
  {
   "cell_type": "code",
   "execution_count": 39,
   "id": "cellular-positive",
   "metadata": {},
   "outputs": [],
   "source": [
    "word_embeddings = {}\n",
    "f = open('glove.6B.100d.txt', encoding='utf-8')\n",
    "for line in f:\n",
    "    values = line.split()\n",
    "    word = values[0]\n",
    "    coefs = np.asarray(values[1:], dtype='float32')\n",
    "    word_embeddings[word] = coefs\n",
    "f.close()"
   ]
  },
  {
   "cell_type": "code",
   "execution_count": 40,
   "id": "compact-bottle",
   "metadata": {},
   "outputs": [],
   "source": [
    "sentence_vectors_cancer = []\n",
    "for i in clean_sentences_cancer:\n",
    "  if len(i) != 0:\n",
    "    v = sum([word_embeddings.get(w, np.zeros((100,))) for w in i.split()])/(len(i.split())+0.001)\n",
    "  else:\n",
    "    v = np.zeros((100,))\n",
    "  sentence_vectors_cancer.append(v)\n",
    "\n",
    "sentence_vectors_dist = []\n",
    "for i in clean_sentences_dist:\n",
    "  if len(i) != 0:\n",
    "    v = sum([word_embeddings.get(w, np.zeros((100,))) for w in i.split()])/(len(i.split())+0.001)\n",
    "  else:\n",
    "    v = np.zeros((100,))\n",
    "  sentence_vectors_dist.append(v)"
   ]
  },
  {
   "cell_type": "markdown",
   "id": "spiritual-darkness",
   "metadata": {},
   "source": [
    "**Similarity Matrix Preparation**"
   ]
  },
  {
   "cell_type": "code",
   "execution_count": 41,
   "id": "similar-revelation",
   "metadata": {},
   "outputs": [],
   "source": [
    "sim_mat_cancer = np.zeros([len(sentences_cancer), len(sentences_cancer)])\n",
    "sim_mat_dist = np.zeros([len(sentences_dist), len(sentences_dist)])"
   ]
  },
  {
   "cell_type": "code",
   "execution_count": 42,
   "id": "czech-chorus",
   "metadata": {},
   "outputs": [],
   "source": [
    "for i in range(len(sentences_cancer)):\n",
    "  for j in range(len(sentences_cancer)):\n",
    "    if i != j:\n",
    "      sim_mat_cancer[i][j] = cosine_similarity(sentence_vectors_cancer[i].reshape(1,100), sentence_vectors_cancer[j].reshape(1,100))[0,0]\n",
    "    \n",
    "for i in range(len(sentences_dist)):\n",
    "  for j in range(len(sentences_dist)):\n",
    "    if i != j:\n",
    "      sim_mat_dist[i][j] = cosine_similarity(sentence_vectors_dist[i].reshape(1,100), sentence_vectors_dist[j].reshape(1,100))[0,0]"
   ]
  },
  {
   "cell_type": "markdown",
   "id": "collectible-lottery",
   "metadata": {},
   "source": [
    "**Apply PageRank Algorithm**"
   ]
  },
  {
   "cell_type": "code",
   "execution_count": 43,
   "id": "following-breeding",
   "metadata": {
    "scrolled": true
   },
   "outputs": [],
   "source": [
    "nx_graph_cancer = nx.from_numpy_array(sim_mat_cancer)\n",
    "scores_cancer = nx.pagerank(nx_graph_cancer)\n",
    "\n",
    "nx_graph_dist = nx.from_numpy_array(sim_mat_dist)\n",
    "scores_dist = nx.pagerank(nx_graph_dist)"
   ]
  },
  {
   "cell_type": "markdown",
   "id": "unlike-server",
   "metadata": {},
   "source": [
    "**Summary Extraction**"
   ]
  },
  {
   "cell_type": "code",
   "execution_count": 44,
   "id": "collected-month",
   "metadata": {},
   "outputs": [],
   "source": [
    "ranked_sentences_cancer = sorted(((scores_cancer[i],s) for i,s in enumerate(sentences_cancer)), reverse=True)\n",
    "ranked_sentences_dist = sorted(((scores_dist[i],s) for i,s in enumerate(sentences_dist)), reverse=True)"
   ]
  },
  {
   "cell_type": "code",
   "execution_count": 45,
   "id": "perceived-director",
   "metadata": {},
   "outputs": [
    {
     "name": "stdout",
     "output_type": "stream",
     "text": [
      "The process of obtaining the best model for predicting disease classes from a given raw data set collected by scanning genetic microarrays from 72 patients, each suffering from one of the strains of cancer (leukemia).\n",
      "The scope of this paper is to present the cancer classification using machine learning models.This paper mainly explored and analyzed published papers about the topic.\n",
      "There are several research in cancer classification that used different techniques using gene analysis and classification.\n",
      "In a cancer disease sample such a cell biopsy to be processed, thousands of genes at a time can be subjected for analysis in a single chip called microarray.\n",
      "The challenge of cancer classification using the microarray is the application of model based selection and prediction algorithm that will classify the cancer genes using gene expression data.\n",
      "Using linear method T-values, this reduced the number of genes for the training model.\n",
      "The test set contains 6627 unique values of genes from the 7129 values with 34 samples.\n",
      "The main goal of this study is to explore and analyze the published papers in cancer classification.\n",
      "The data was normalized for this experiment to select the genes that was correlated to the outcome of the combined features.\n",
      "The World Cancer Report described cancer as a global problem and projected an increase to 20 million new cases by 2025 [2].\n"
     ]
    }
   ],
   "source": [
    "# Extract top 10 sentences as the summary of cancer dataset\n",
    "for i in range(10):\n",
    "  print(ranked_sentences_cancer[i][1])"
   ]
  },
  {
   "cell_type": "code",
   "execution_count": 46,
   "id": "light-vacuum",
   "metadata": {},
   "outputs": [
    {
     "name": "stdout",
     "output_type": "stream",
     "text": [
      "The process is repeated k times, with each time making use of a different subset as the testing data.\n",
      "This specific driver set was the set chosen as training data as a result of the K-Fold Validation.\n",
      "However, comparing the model’s output to actual data in training can have one of four outcomes.\n",
      "However, Fmeasure allows for a better classification of the predictive power of the model instead of just assessing how much the model got right.\n",
      "The results from this study signify that the combination of facial landmarks, eye gaze, and action units provide a detection power of 95% for the specific data that was tested on.\n",
      "A True Negative detection on the other hand signifies a point in the video wherein it was not annotated to be a distraction, and the model does not detect this as well.\n",
      "This results in a better accuracy by compute time will also be increased due to the repetitive action.\n",
      "In line with this, the model was subjected to assess whether it is the right fit for the sample data obtained.\n",
      "In hopes of contributing to the ongoing research on developing modern and more accurate models for driver-state monitoring systems, this paper presents a non-intrusive camera-based approach which was developed and implemented to detect visual distraction cues [7] and cues that can be detected visually (talking).\n",
      "For a 25-frames-per-second rendering, the driver must remain undistracted for 17 frames as observed in the values for the detection to change from distracted to non-distracted.\n"
     ]
    }
   ],
   "source": [
    "# Extract top 10 sentences as the summary of distraction dataset\n",
    "for i in range(10):\n",
    "  print(ranked_sentences_dist[i][1])"
   ]
  },
  {
   "cell_type": "markdown",
   "id": "piano-control",
   "metadata": {},
   "source": [
    "# b)\tCompare conclusion part from the papers with the extractive summarization result. Provide the similarity score. "
   ]
  },
  {
   "cell_type": "code",
   "execution_count": 47,
   "id": "traditional-advisory",
   "metadata": {},
   "outputs": [],
   "source": [
    "gloveFile = \"glove.6B.100d.txt\"\n",
    "\n",
    "def loadGloveModel(gloveFile):\n",
    "    with open(gloveFile, encoding=\"utf8\" ) as f:\n",
    "        content = f.readlines()\n",
    "    model = {}\n",
    "    for line in content:\n",
    "        splitLine = line.split()\n",
    "        word = splitLine[0]\n",
    "        embedding = np.array([float(val) for val in splitLine[1:]])\n",
    "        model[word] = embedding\n",
    "    return model\n",
    "\n",
    "def preprocess(raw_text):\n",
    "\n",
    "    letters_only_text = re.sub(\"[^a-zA-Z]\", \" \", raw_text)\n",
    "    words = letters_only_text.lower().split()\n",
    "    stopword_set = set(stopwords.words(\"english\"))\n",
    "    cleaned_words = list(set([w for w in words if w not in stopword_set]))\n",
    "\n",
    "    return cleaned_words\n",
    "\n",
    "def cosine_distance_between_two_words(word1, word2):\n",
    "    import scipy\n",
    "    return (1- scipy.spatial.distance.cosine(model[word1], model[word2]))\n",
    "\n",
    "def calculate_heat_matrix_for_two_sentences(s1,s2):\n",
    "    s1 = preprocess(s1)\n",
    "    s2 = preprocess(s2)\n",
    "    result_list = [[cosine_distance_between_two_words(word1, word2) for word2 in s2] for word1 in s1]\n",
    "    result_df = pd.DataFrame(result_list)\n",
    "    result_df.columns = s2\n",
    "    result_df.index = s1\n",
    "    return result_df\n",
    "\n",
    "def cosine_distance_wordembedding_method(s1, s2):\n",
    "    import scipy\n",
    "    vector_1 = np.mean([model[word] for word in preprocess(s1)],axis=0)\n",
    "    vector_2 = np.mean([model[word] for word in preprocess(s2)],axis=0)\n",
    "    cosine = scipy.spatial.distance.cosine(vector_1, vector_2)\n",
    "    print('The similarity between the generated and actual conclusion is',round((1-cosine)*100,2),'%')\n",
    "\n",
    "def heat_map_matrix_between_two_sentences(s1,s2):\n",
    "    df = calculate_heat_matrix_for_two_sentences(s1,s2)\n",
    "    fig, ax = plt.subplots(figsize=(10,10)) \n",
    "    ax_blue = sns.heatmap(df, cmap=\"Greens\")\n",
    "    return ax_blue"
   ]
  },
  {
   "cell_type": "code",
   "execution_count": 48,
   "id": "complex-justice",
   "metadata": {},
   "outputs": [],
   "source": [
    "generated_conclusion_cancer = ranked_sentences_cancer[i][1]\n",
    "actual_conclusion_cancer = \"\"\"This paper presented the gene expression data analysis and\n",
    "classify the results based on the cancer dataset. The literature\n",
    "analysis presented cancer classification using gene expression\n",
    "was still a topic on interest by most researchers in this field. The\n",
    "survey analysis of the cancer classification model evaluation presented the \n",
    "advantage and disadvantages of each. Gene selection is an important phase in \n",
    "the preprocessing and cancer classification. This paper demonstrated the\n",
    "cancer classification model and applied the SVM and Boosting that provide \n",
    "insights of their application in the gene expression data. The performance and\n",
    "accuracy reported having 58% and 64% can indicate that the\n",
    "experiment can be improved and comparable to other results of published literatures.\n",
    "The next step is to investigate the cancer classification\n",
    "techniques specific to cancer genome or type of cancer disease\n",
    "using the other machine learning a nd deep learning techniques.\n",
    "Python packages can be programmed based on the model\n",
    "presented will be the next step. The application of artificial\n",
    "intelligence can be considered as the next step as our research\n",
    "in cancer classification in histology, digital oncology and\n",
    "pathology.\"\"\""
   ]
  },
  {
   "cell_type": "code",
   "execution_count": 49,
   "id": "dynamic-fleet",
   "metadata": {},
   "outputs": [],
   "source": [
    "generated_conclusion_dist = ranked_sentences_dist[i][1]\n",
    "actual_conclusion_dist = \"\"\"The study presents proof that eye gaze in relation to the driver’s\n",
    "head pose, action units, and facial landmarks on the lips signify a\n",
    "viable parameter for use in detecting distraction cues. These\n",
    "attributes provide sufficient information to create a model with a\n",
    "95% detection power. This model feature (Feature C) produces\n",
    "the highest detection power out of the three considered model\n",
    "features. It combined the raw outputs of the k-NN classifier and\n",
    "subjected into a clustering and time restriction algorithm. The\n",
    "ceiling at 95% detection power (F-measure) can be attributed to\n",
    "human errors associated in the annotation of the video. In addition,\n",
    "the model’s detection power is limited by the ability of the feature\n",
    "extraction software to accurately determine the values\n",
    "of the driver’s face. Positions wherein the driver’s face is\n",
    "completely facing the side returns invalid values, rendering the\n",
    "prediction model unable to classify such an occurrence.\n",
    "Furthermore, drivers whose facial movements are very minute and\n",
    "limited decrease the accuracy of the model since it relies on\n",
    "distinguishable eye movements and head pose orientations.\n",
    "Future work on improving the model could be through triggering\n",
    "specific instances of distraction for the model to be trained\n",
    "accordingly. Factors such as light and shadow in extreme values\n",
    "hinder the detection capability. A higher quality camera could be\n",
    "used for a more accurate detection of facial features. Different\n",
    "frame rates in rendering the output video could be used to see if\n",
    "there are changes in the detection power if frame rates are reduced\n",
    "or increased. A different feature extraction software or toolkit\n",
    "could be used to extract facial values to see the difference in the\n",
    "capabilities of the two models. The inclusion of auditory cues is\n",
    "an extension possibility of this model since it currently only\n",
    "focuses on what is visual. Integrating these could create a model\n",
    "that yields better results.\"\"\""
   ]
  },
  {
   "cell_type": "code",
   "execution_count": 50,
   "id": "informed-framework",
   "metadata": {},
   "outputs": [
    {
     "name": "stdout",
     "output_type": "stream",
     "text": [
      "The similarity between the generated and actual conclusion is 82.72 %\n"
     ]
    },
    {
     "data": {
      "text/plain": [
       "<AxesSubplot:>"
      ]
     },
     "execution_count": 50,
     "metadata": {},
     "output_type": "execute_result"
    },
    {
     "data": {
      "image/png": "[encoded data removed]",
      "text/plain": [
       "<Figure size 720x720 with 2 Axes>"
      ]
     },
     "metadata": {
      "needs_background": "light"
     },
     "output_type": "display_data"
    }
   ],
   "source": [
    "model = loadGloveModel(gloveFile)\n",
    "cosine_distance_wordembedding_method(generated_conclusion_cancer,actual_conclusion_cancer)\n",
    "heat_map_matrix_between_two_sentences(generated_conclusion_cancer,actual_conclusion_cancer)"
   ]
  },
  {
   "cell_type": "code",
   "execution_count": 51,
   "id": "stretch-producer",
   "metadata": {},
   "outputs": [
    {
     "name": "stdout",
     "output_type": "stream",
     "text": [
      "The similarity between the generated and actual conclusion is 93.02 %\n"
     ]
    },
    {
     "data": {
      "text/plain": [
       "<AxesSubplot:>"
      ]
     },
     "execution_count": 51,
     "metadata": {},
     "output_type": "execute_result"
    },
    {
     "data": {
      "image/png": "[encoded data removed]",
      "text/plain": [
       "<Figure size 720x720 with 2 Axes>"
      ]
     },
     "metadata": {
      "needs_background": "light"
     },
     "output_type": "display_data"
    }
   ],
   "source": [
    "model = loadGloveModel(gloveFile)\n",
    "cosine_distance_wordembedding_method(generated_conclusion_dist,actual_conclusion_dist)\n",
    "heat_map_matrix_between_two_sentences(generated_conclusion_dist,actual_conclusion_dist)"
   ]
  },
  {
   "cell_type": "markdown",
   "id": "valid-blanket",
   "metadata": {},
   "source": [
    "*The function in order to find the similarity score between the generated and actual conclusion shows a high score. this could be true as you can see when you manually inspect the actual and generated values, you could find similiar words*"
   ]
  },
  {
   "cell_type": "markdown",
   "id": "empirical-garlic",
   "metadata": {},
   "source": [
    "# c)\tCompare the results of question-1 and Question-2 to show how similar/dissimilar in terms of their summary. Provide similarity score. Write a conclusion about the result"
   ]
  },
  {
   "cell_type": "markdown",
   "id": "dirty-philippines",
   "metadata": {},
   "source": [
    "*results in the question 2 is much consistent than results in question 1. question 2 similarity score somewhat reflects the actual result while question 1 results shows a discrepancy between similarity score and the manual checking. this is probably because of bad implementation on stopwords on generation of abstract. Not only that, PageRank algorithm is much easier to understand and implement compared to LSTM as you need provide optimal parameters and to train it which will take a lot of time.*"
   ]
  }
 ],
 "metadata": {
  "kernelspec": {
   "display_name": "Python 3",
   "language": "python",
   "name": "python3"
  },
  "language_info": {
   "codemirror_mode": {
    "name": "ipython",
    "version": 3
   },
   "file_extension": ".py",
   "mimetype": "text/x-python",
   "name": "python",
   "nbconvert_exporter": "python",
   "pygments_lexer": "ipython3",
   "version": "3.7.9"
  }
 },
 "nbformat": 4,
 "nbformat_minor": 5
}
